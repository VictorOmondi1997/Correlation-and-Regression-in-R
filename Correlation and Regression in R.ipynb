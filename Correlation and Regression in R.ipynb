{
 "cells": [
  {
   "cell_type": "markdown",
   "metadata": {},
   "source": [
    "# Correlation and Regression in R\n",
    " \n",
    "> describe relationships between two numerical quantities and characterize these relationships graphically.\n",
    "\n",
    "- author: Victor Omondi\n",
    "- toc: true\n",
    "- comments: true\n",
    "- categories: [correlation, regression]\n",
    "- image: images/corr-reg-shield.png"
   ]
  },
  {
   "cell_type": "markdown",
   "metadata": {},
   "source": [
    "# Overview\n",
    "\n",
    "Ultimately, data analysis is about understanding relationships among variables. Exploring data with multiple variables requires new, more complex tools, but enables a richer set of comparisons. We will describe relationships between two numerical quantities. We will characterize these relationships graphically, in the form of summary statistics, and through simple linear regression models.\n"
   ]
  },
  {
   "cell_type": "markdown",
   "metadata": {},
   "source": [
    "# Libraries"
   ]
  },
  {
   "cell_type": "code",
   "execution_count": 1,
   "metadata": {},
   "outputs": [
    {
     "name": "stderr",
     "output_type": "stream",
     "text": [
      "Warning message:\n",
      "\"package 'openintro' was built under R version 3.6.3\"Loading required package: airports\n",
      "Warning message:\n",
      "\"package 'airports' was built under R version 3.6.3\"Loading required package: cherryblossom\n",
      "Warning message:\n",
      "\"package 'cherryblossom' was built under R version 3.6.3\"Loading required package: usdata\n",
      "Warning message:\n",
      "\"package 'usdata' was built under R version 3.6.3\"Warning message:\n",
      "\"package 'dplyr' was built under R version 3.6.3\"\n",
      "Attaching package: 'dplyr'\n",
      "\n",
      "The following objects are masked from 'package:stats':\n",
      "\n",
      "    filter, lag\n",
      "\n",
      "The following objects are masked from 'package:base':\n",
      "\n",
      "    intersect, setdiff, setequal, union\n",
      "\n",
      "Warning message:\n",
      "\"package 'tidyr' was built under R version 3.6.3\""
     ]
    }
   ],
   "source": [
    "library(ggplot2)\n",
    "library(openintro)\n",
    "library(dplyr)\n",
    "library(tidyr)"
   ]
  },
  {
   "cell_type": "code",
   "execution_count": null,
   "metadata": {},
   "outputs": [],
   "source": []
  },
  {
   "cell_type": "markdown",
   "metadata": {},
   "source": [
    "# Visualizing two variables\n",
    "\n",
    "The techniques for exploring bivariate relationships."
   ]
  },
  {
   "cell_type": "markdown",
   "metadata": {},
   "source": [
    "## Visualizing bivariate relationships\n",
    "\n",
    "> ### Bivariate  relationships\n",
    "- Both variables are numerical \n",
    "- Response variable \n",
    "  - a.k.a. y, dependent\n",
    "- Explanatory variable \n",
    "  - Something you think might be related to the response \n",
    "  - a.k.a. x, independent, predictor\n",
    "\n",
    "> ### Graphical representations\n",
    "- Put response on vertical axis \n",
    "- Put explanatory on horizontal axis\n"
   ]
  },
  {
   "cell_type": "code",
   "execution_count": 2,
   "metadata": {},
   "outputs": [
    {
     "data": {
      "image/png": "[encoded data removed]",
      "text/plain": [
       "plot without title"
      ]
     },
     "metadata": {},
     "output_type": "display_data"
    }
   ],
   "source": [
    "ggplot()+\n",
    "    geom_line()+\n",
    "    xlab(\"Independent (Explanatory Variable)\") +\n",
    "    ylab(\"Dependent (Response Variable)\")"
   ]
  },
  {
   "cell_type": "code",
   "execution_count": 3,
   "metadata": {},
   "outputs": [
    {
     "data": {
      "text/html": [
       "<table>\n",
       "<thead><tr><th scope=col>site</th><th scope=col>pop</th><th scope=col>sex</th><th scope=col>age</th><th scope=col>head_l</th><th scope=col>skull_w</th><th scope=col>total_l</th><th scope=col>tail_l</th></tr></thead>\n",
       "<tbody>\n",
       "\t<tr><td>1   </td><td>Vic </td><td>m   </td><td>8   </td><td>94.1</td><td>60.4</td><td>89.0</td><td>36.0</td></tr>\n",
       "\t<tr><td>1   </td><td>Vic </td><td>f   </td><td>6   </td><td>92.5</td><td>57.6</td><td>91.5</td><td>36.5</td></tr>\n",
       "\t<tr><td>1   </td><td>Vic </td><td>f   </td><td>6   </td><td>94.0</td><td>60.0</td><td>95.5</td><td>39.0</td></tr>\n",
       "\t<tr><td>1   </td><td>Vic </td><td>f   </td><td>6   </td><td>93.2</td><td>57.1</td><td>92.0</td><td>38.0</td></tr>\n",
       "\t<tr><td>1   </td><td>Vic </td><td>f   </td><td>2   </td><td>91.5</td><td>56.3</td><td>85.5</td><td>36.0</td></tr>\n",
       "\t<tr><td>1   </td><td>Vic </td><td>f   </td><td>1   </td><td>93.1</td><td>54.8</td><td>90.5</td><td>35.5</td></tr>\n",
       "</tbody>\n",
       "</table>\n"
      ],
      "text/latex": [
       "\\begin{tabular}{r|llllllll}\n",
       " site & pop & sex & age & head\\_l & skull\\_w & total\\_l & tail\\_l\\\\\n",
       "\\hline\n",
       "\t 1    & Vic  & m    & 8    & 94.1 & 60.4 & 89.0 & 36.0\\\\\n",
       "\t 1    & Vic  & f    & 6    & 92.5 & 57.6 & 91.5 & 36.5\\\\\n",
       "\t 1    & Vic  & f    & 6    & 94.0 & 60.0 & 95.5 & 39.0\\\\\n",
       "\t 1    & Vic  & f    & 6    & 93.2 & 57.1 & 92.0 & 38.0\\\\\n",
       "\t 1    & Vic  & f    & 2    & 91.5 & 56.3 & 85.5 & 36.0\\\\\n",
       "\t 1    & Vic  & f    & 1    & 93.1 & 54.8 & 90.5 & 35.5\\\\\n",
       "\\end{tabular}\n"
      ],
      "text/markdown": [
       "\n",
       "| site | pop | sex | age | head_l | skull_w | total_l | tail_l |\n",
       "|---|---|---|---|---|---|---|---|\n",
       "| 1    | Vic  | m    | 8    | 94.1 | 60.4 | 89.0 | 36.0 |\n",
       "| 1    | Vic  | f    | 6    | 92.5 | 57.6 | 91.5 | 36.5 |\n",
       "| 1    | Vic  | f    | 6    | 94.0 | 60.0 | 95.5 | 39.0 |\n",
       "| 1    | Vic  | f    | 6    | 93.2 | 57.1 | 92.0 | 38.0 |\n",
       "| 1    | Vic  | f    | 2    | 91.5 | 56.3 | 85.5 | 36.0 |\n",
       "| 1    | Vic  | f    | 1    | 93.1 | 54.8 | 90.5 | 35.5 |\n",
       "\n"
      ],
      "text/plain": [
       "  site pop sex age head_l skull_w total_l tail_l\n",
       "1 1    Vic m   8   94.1   60.4    89.0    36.0  \n",
       "2 1    Vic f   6   92.5   57.6    91.5    36.5  \n",
       "3 1    Vic f   6   94.0   60.0    95.5    39.0  \n",
       "4 1    Vic f   6   93.2   57.1    92.0    38.0  \n",
       "5 1    Vic f   2   91.5   56.3    85.5    36.0  \n",
       "6 1    Vic f   1   93.1   54.8    90.5    35.5  "
      ]
     },
     "metadata": {},
     "output_type": "display_data"
    }
   ],
   "source": [
    "head(possum)"
   ]
  },
  {
   "cell_type": "markdown",
   "metadata": {},
   "source": [
    "### Scatterplot\n",
    "\n",
    "Scatterplots are the most common and effective tools for visualizing the relationship between two numeric variables."
   ]
  },
  {
   "cell_type": "code",
   "execution_count": 4,
   "metadata": {},
   "outputs": [
    {
     "data": {
      "image/png": "[encoded data removed]",
      "text/plain": [
       "plot without title"
      ]
     },
     "metadata": {},
     "output_type": "display_data"
    }
   ],
   "source": [
    "possum %>%\n",
    "    ggplot(aes(x=tail_l, y=total_l)) +\n",
    "    geom_point()"
   ]
  },
  {
   "cell_type": "code",
   "execution_count": 5,
   "metadata": {},
   "outputs": [
    {
     "data": {
      "image/png": "[encoded data removed]",
      "text/plain": [
       "plot without title"
      ]
     },
     "metadata": {},
     "output_type": "display_data"
    }
   ],
   "source": [
    "possum %>%\n",
    "    ggplot(aes(x=tail_l, y=total_l)) +\n",
    "    geom_point() +\n",
    "    scale_x_continuous(\"Length of Possum Tail (cm)\") +\n",
    "    scale_y_continuous(\"Length of Possum Body (cm)\")"
   ]
  },
  {
   "cell_type": "markdown",
   "metadata": {},
   "source": [
    "- Can think of boxplots as scatterplots......\n",
    "  - but with discretized explanatory variable\n",
    "- `cut()` function discretizes \n",
    "  - Choose appropriate number of \"boxes\"\n",
    "\n",
    "The `cut()` function takes two arguments: the continuous variable you want to discretize and the number of `breaks` that you want to make in that continuous variable in order to discretize it."
   ]
  },
  {
   "cell_type": "code",
   "execution_count": 6,
   "metadata": {},
   "outputs": [
    {
     "data": {
      "image/png": "[encoded data removed]",
      "text/plain": [
       "plot without title"
      ]
     },
     "metadata": {},
     "output_type": "display_data"
    }
   ],
   "source": [
    "possum %>%\n",
    "    ggplot(aes(x=cut(tail_l, breaks=5), y=total_l)) +\n",
    "    geom_point()"
   ]
  },
  {
   "cell_type": "code",
   "execution_count": 7,
   "metadata": {},
   "outputs": [
    {
     "data": {
      "image/png": "[encoded data removed]",
      "text/plain": [
       "plot without title"
      ]
     },
     "metadata": {},
     "output_type": "display_data"
    }
   ],
   "source": [
    "possum %>%\n",
    "    ggplot(aes(x=cut(tail_l, breaks=5), y=total_l)) +\n",
    "    geom_boxplot()"
   ]
  },
  {
   "cell_type": "markdown",
   "metadata": {},
   "source": [
    "### ncbirths"
   ]
  },
  {
   "cell_type": "code",
   "execution_count": 8,
   "metadata": {},
   "outputs": [
    {
     "data": {
      "text/html": [
       "<table>\n",
       "<thead><tr><th scope=col>fage</th><th scope=col>mage</th><th scope=col>mature</th><th scope=col>weeks</th><th scope=col>premie</th><th scope=col>visits</th><th scope=col>marital</th><th scope=col>gained</th><th scope=col>weight</th><th scope=col>lowbirthweight</th><th scope=col>gender</th><th scope=col>habit</th><th scope=col>whitemom</th></tr></thead>\n",
       "<tbody>\n",
       "\t<tr><td>NA         </td><td>13         </td><td>younger mom</td><td>39         </td><td>full term  </td><td>10         </td><td>not married</td><td>38         </td><td>7.63       </td><td>not low    </td><td>male       </td><td>nonsmoker  </td><td>not white  </td></tr>\n",
       "\t<tr><td>NA         </td><td>14         </td><td>younger mom</td><td>42         </td><td>full term  </td><td>15         </td><td>not married</td><td>20         </td><td>7.88       </td><td>not low    </td><td>male       </td><td>nonsmoker  </td><td>not white  </td></tr>\n",
       "\t<tr><td>19         </td><td>15         </td><td>younger mom</td><td>37         </td><td>full term  </td><td>11         </td><td>not married</td><td>38         </td><td>6.63       </td><td>not low    </td><td>female     </td><td>nonsmoker  </td><td>white      </td></tr>\n",
       "\t<tr><td>21         </td><td>15         </td><td>younger mom</td><td>41         </td><td>full term  </td><td> 6         </td><td>not married</td><td>34         </td><td>8.00       </td><td>not low    </td><td>male       </td><td>nonsmoker  </td><td>white      </td></tr>\n",
       "\t<tr><td>NA         </td><td>15         </td><td>younger mom</td><td>39         </td><td>full term  </td><td> 9         </td><td>not married</td><td>27         </td><td>6.38       </td><td>not low    </td><td>female     </td><td>nonsmoker  </td><td>not white  </td></tr>\n",
       "\t<tr><td>NA         </td><td>15         </td><td>younger mom</td><td>38         </td><td>full term  </td><td>19         </td><td>not married</td><td>22         </td><td>5.38       </td><td>low        </td><td>male       </td><td>nonsmoker  </td><td>not white  </td></tr>\n",
       "</tbody>\n",
       "</table>\n"
      ],
      "text/latex": [
       "\\begin{tabular}{r|lllllllllllll}\n",
       " fage & mage & mature & weeks & premie & visits & marital & gained & weight & lowbirthweight & gender & habit & whitemom\\\\\n",
       "\\hline\n",
       "\t NA          & 13          & younger mom & 39          & full term   & 10          & not married & 38          & 7.63        & not low     & male        & nonsmoker   & not white  \\\\\n",
       "\t NA          & 14          & younger mom & 42          & full term   & 15          & not married & 20          & 7.88        & not low     & male        & nonsmoker   & not white  \\\\\n",
       "\t 19          & 15          & younger mom & 37          & full term   & 11          & not married & 38          & 6.63        & not low     & female      & nonsmoker   & white      \\\\\n",
       "\t 21          & 15          & younger mom & 41          & full term   &  6          & not married & 34          & 8.00        & not low     & male        & nonsmoker   & white      \\\\\n",
       "\t NA          & 15          & younger mom & 39          & full term   &  9          & not married & 27          & 6.38        & not low     & female      & nonsmoker   & not white  \\\\\n",
       "\t NA          & 15          & younger mom & 38          & full term   & 19          & not married & 22          & 5.38        & low         & male        & nonsmoker   & not white  \\\\\n",
       "\\end{tabular}\n"
      ],
      "text/markdown": [
       "\n",
       "| fage | mage | mature | weeks | premie | visits | marital | gained | weight | lowbirthweight | gender | habit | whitemom |\n",
       "|---|---|---|---|---|---|---|---|---|---|---|---|---|\n",
       "| NA          | 13          | younger mom | 39          | full term   | 10          | not married | 38          | 7.63        | not low     | male        | nonsmoker   | not white   |\n",
       "| NA          | 14          | younger mom | 42          | full term   | 15          | not married | 20          | 7.88        | not low     | male        | nonsmoker   | not white   |\n",
       "| 19          | 15          | younger mom | 37          | full term   | 11          | not married | 38          | 6.63        | not low     | female      | nonsmoker   | white       |\n",
       "| 21          | 15          | younger mom | 41          | full term   |  6          | not married | 34          | 8.00        | not low     | male        | nonsmoker   | white       |\n",
       "| NA          | 15          | younger mom | 39          | full term   |  9          | not married | 27          | 6.38        | not low     | female      | nonsmoker   | not white   |\n",
       "| NA          | 15          | younger mom | 38          | full term   | 19          | not married | 22          | 5.38        | low         | male        | nonsmoker   | not white   |\n",
       "\n"
      ],
      "text/plain": [
       "  fage mage mature      weeks premie    visits marital     gained weight\n",
       "1 NA   13   younger mom 39    full term 10     not married 38     7.63  \n",
       "2 NA   14   younger mom 42    full term 15     not married 20     7.88  \n",
       "3 19   15   younger mom 37    full term 11     not married 38     6.63  \n",
       "4 21   15   younger mom 41    full term  6     not married 34     8.00  \n",
       "5 NA   15   younger mom 39    full term  9     not married 27     6.38  \n",
       "6 NA   15   younger mom 38    full term 19     not married 22     5.38  \n",
       "  lowbirthweight gender habit     whitemom \n",
       "1 not low        male   nonsmoker not white\n",
       "2 not low        male   nonsmoker not white\n",
       "3 not low        female nonsmoker white    \n",
       "4 not low        male   nonsmoker white    \n",
       "5 not low        female nonsmoker not white\n",
       "6 low            male   nonsmoker not white"
      ]
     },
     "metadata": {},
     "output_type": "display_data"
    }
   ],
   "source": [
    "head(ncbirths)"
   ]
  },
  {
   "cell_type": "markdown",
   "metadata": {},
   "source": [
    "The `ncbirths` dataset is a random sample of 1,000 cases taken from a larger dataset collected in 2004. Each case describes the birth of a single child born in North Carolina, along with various characteristics of the child (e.g. birth weight, length of gestation, etc.), the child's mother (e.g. age, weight gained during pregnancy, smoking habits, etc.) and the child's father (e.g. age)."
   ]
  },
  {
   "cell_type": "code",
   "execution_count": 9,
   "metadata": {},
   "outputs": [
    {
     "name": "stderr",
     "output_type": "stream",
     "text": [
      "`geom_smooth()` using formula 'y ~ x'\n",
      "Warning message:\n",
      "\"Removed 2 rows containing non-finite values (stat_smooth).\"Warning message:\n",
      "\"Removed 2 rows containing missing values (geom_point).\""
     ]
    },
    {
     "data": {
      "image/png": "[encoded data removed]",
      "text/plain": [
       "plot without title"
      ]
     },
     "metadata": {},
     "output_type": "display_data"
    }
   ],
   "source": [
    "ncbirths %>%\n",
    "    ggplot(aes(x=weeks, y=weight)) +\n",
    "    geom_point() +\n",
    "    geom_smooth(method=\"lm\", se=F)"
   ]
  },
  {
   "cell_type": "markdown",
   "metadata": {},
   "source": [
    "### Boxplots as discretized/conditioned scatterplots"
   ]
  },
  {
   "cell_type": "markdown",
   "metadata": {},
   "source": [
    "We you can think of boxplots as scatterplots for which the variable on the x-axis has been discretized."
   ]
  },
  {
   "cell_type": "code",
   "execution_count": 10,
   "metadata": {},
   "outputs": [
    {
     "data": {
      "image/png": "[encoded data removed]",
      "text/plain": [
       "plot without title"
      ]
     },
     "metadata": {},
     "output_type": "display_data"
    }
   ],
   "source": [
    "ncbirths %>%\n",
    "    ggplot(aes(x=cut(weeks, breaks=5), y=weight)) +\n",
    "    geom_boxplot()"
   ]
  },
  {
   "cell_type": "markdown",
   "metadata": {},
   "source": [
    "## Characterizing bivariate relationships\n",
    "- Form(e.g.linear,quadratic,non-linear)\n",
    "- Direction(e.g.postive,negative)\n",
    "- Strength(how much scatter/noise?)\n",
    "- Outliers\n"
   ]
  },
  {
   "cell_type": "markdown",
   "metadata": {},
   "source": [
    "### Creating scatterplots\n",
    "\n",
    "we will be using several datasets listed below. These data are available through the `openintro` package. Briefly:\n",
    "- The `mammals` dataset contains information about 39 different species of mammals, including their body weight, brain weight, gestation time, and a few other variables.\n",
    "- The `mlbBat10` dataset contains batting statistics for 1,199 Major League Baseball players during the 2010 season.\n",
    "- The `bdims` dataset contains body girth and skeletal diameter measurements for 507 physically active individuals.\n",
    "- The `smoking` dataset contains information on the smoking habits of 1,691 citizens of the United Kingdom."
   ]
  },
  {
   "cell_type": "code",
   "execution_count": 11,
   "metadata": {},
   "outputs": [
    {
     "data": {
      "text/html": [
       "<table>\n",
       "<thead><tr><th scope=col>species</th><th scope=col>body_wt</th><th scope=col>brain_wt</th><th scope=col>non_dreaming</th><th scope=col>dreaming</th><th scope=col>total_sleep</th><th scope=col>life_span</th><th scope=col>gestation</th><th scope=col>predation</th><th scope=col>exposure</th><th scope=col>danger</th></tr></thead>\n",
       "<tbody>\n",
       "\t<tr><td>Africanelephant       </td><td>6654.000              </td><td>5712.0                </td><td> NA                   </td><td> NA                   </td><td> 3.3                  </td><td>38.6                  </td><td>645                   </td><td>3                     </td><td>5                     </td><td>3                     </td></tr>\n",
       "\t<tr><td>Africangiantpouchedrat</td><td>   1.000              </td><td>   6.6                </td><td>6.3                   </td><td>2.0                   </td><td> 8.3                  </td><td> 4.5                  </td><td> 42                   </td><td>3                     </td><td>1                     </td><td>3                     </td></tr>\n",
       "\t<tr><td>ArcticFox             </td><td>   3.385              </td><td>  44.5                </td><td> NA                   </td><td> NA                   </td><td>12.5                  </td><td>14.0                  </td><td> 60                   </td><td>1                     </td><td>1                     </td><td>1                     </td></tr>\n",
       "\t<tr><td>Arcticgroundsquirrel  </td><td>   0.920              </td><td>   5.7                </td><td> NA                   </td><td> NA                   </td><td>16.5                  </td><td>  NA                  </td><td> 25                   </td><td>5                     </td><td>2                     </td><td>3                     </td></tr>\n",
       "\t<tr><td>Asianelephant         </td><td>2547.000              </td><td>4603.0                </td><td>2.1                   </td><td>1.8                   </td><td> 3.9                  </td><td>69.0                  </td><td>624                   </td><td>3                     </td><td>5                     </td><td>4                     </td></tr>\n",
       "\t<tr><td>Baboon                </td><td>  10.550              </td><td> 179.5                </td><td>9.1                   </td><td>0.7                   </td><td> 9.8                  </td><td>27.0                  </td><td>180                   </td><td>4                     </td><td>4                     </td><td>4                     </td></tr>\n",
       "</tbody>\n",
       "</table>\n"
      ],
      "text/latex": [
       "\\begin{tabular}{r|lllllllllll}\n",
       " species & body\\_wt & brain\\_wt & non\\_dreaming & dreaming & total\\_sleep & life\\_span & gestation & predation & exposure & danger\\\\\n",
       "\\hline\n",
       "\t Africanelephant        & 6654.000               & 5712.0                 &  NA                    &  NA                    &  3.3                   & 38.6                   & 645                    & 3                      & 5                      & 3                     \\\\\n",
       "\t Africangiantpouchedrat &    1.000               &    6.6                 & 6.3                    & 2.0                    &  8.3                   &  4.5                   &  42                    & 3                      & 1                      & 3                     \\\\\n",
       "\t ArcticFox              &    3.385               &   44.5                 &  NA                    &  NA                    & 12.5                   & 14.0                   &  60                    & 1                      & 1                      & 1                     \\\\\n",
       "\t Arcticgroundsquirrel   &    0.920               &    5.7                 &  NA                    &  NA                    & 16.5                   &   NA                   &  25                    & 5                      & 2                      & 3                     \\\\\n",
       "\t Asianelephant          & 2547.000               & 4603.0                 & 2.1                    & 1.8                    &  3.9                   & 69.0                   & 624                    & 3                      & 5                      & 4                     \\\\\n",
       "\t Baboon                 &   10.550               &  179.5                 & 9.1                    & 0.7                    &  9.8                   & 27.0                   & 180                    & 4                      & 4                      & 4                     \\\\\n",
       "\\end{tabular}\n"
      ],
      "text/markdown": [
       "\n",
       "| species | body_wt | brain_wt | non_dreaming | dreaming | total_sleep | life_span | gestation | predation | exposure | danger |\n",
       "|---|---|---|---|---|---|---|---|---|---|---|\n",
       "| Africanelephant        | 6654.000               | 5712.0                 |  NA                    |  NA                    |  3.3                   | 38.6                   | 645                    | 3                      | 5                      | 3                      |\n",
       "| Africangiantpouchedrat |    1.000               |    6.6                 | 6.3                    | 2.0                    |  8.3                   |  4.5                   |  42                    | 3                      | 1                      | 3                      |\n",
       "| ArcticFox              |    3.385               |   44.5                 |  NA                    |  NA                    | 12.5                   | 14.0                   |  60                    | 1                      | 1                      | 1                      |\n",
       "| Arcticgroundsquirrel   |    0.920               |    5.7                 |  NA                    |  NA                    | 16.5                   |   NA                   |  25                    | 5                      | 2                      | 3                      |\n",
       "| Asianelephant          | 2547.000               | 4603.0                 | 2.1                    | 1.8                    |  3.9                   | 69.0                   | 624                    | 3                      | 5                      | 4                      |\n",
       "| Baboon                 |   10.550               |  179.5                 | 9.1                    | 0.7                    |  9.8                   | 27.0                   | 180                    | 4                      | 4                      | 4                      |\n",
       "\n"
      ],
      "text/plain": [
       "  species                body_wt  brain_wt non_dreaming dreaming total_sleep\n",
       "1 Africanelephant        6654.000 5712.0    NA           NA       3.3       \n",
       "2 Africangiantpouchedrat    1.000    6.6   6.3          2.0       8.3       \n",
       "3 ArcticFox                 3.385   44.5    NA           NA      12.5       \n",
       "4 Arcticgroundsquirrel      0.920    5.7    NA           NA      16.5       \n",
       "5 Asianelephant          2547.000 4603.0   2.1          1.8       3.9       \n",
       "6 Baboon                   10.550  179.5   9.1          0.7       9.8       \n",
       "  life_span gestation predation exposure danger\n",
       "1 38.6      645       3         5        3     \n",
       "2  4.5       42       3         1        3     \n",
       "3 14.0       60       1         1        1     \n",
       "4   NA       25       5         2        3     \n",
       "5 69.0      624       3         5        4     \n",
       "6 27.0      180       4         4        4     "
      ]
     },
     "metadata": {},
     "output_type": "display_data"
    }
   ],
   "source": [
    "head(mammals)"
   ]
  },
  {
   "cell_type": "markdown",
   "metadata": {},
   "source": [
    "how the brain weight of a mammal varies as a function of its body weight."
   ]
  },
  {
   "cell_type": "code",
   "execution_count": 12,
   "metadata": {},
   "outputs": [
    {
     "data": {
      "image/png": "[encoded data removed]",
      "text/plain": [
       "plot without title"
      ]
     },
     "metadata": {},
     "output_type": "display_data"
    }
   ],
   "source": [
    "mammals %>%\n",
    "    ggplot(aes(x=body_wt, y=brain_wt)) + \n",
    "    geom_point()"
   ]
  },
  {
   "cell_type": "code",
   "execution_count": 13,
   "metadata": {},
   "outputs": [
    {
     "data": {
      "text/html": [
       "<table>\n",
       "<thead><tr><th scope=col>name</th><th scope=col>team</th><th scope=col>position</th><th scope=col>game</th><th scope=col>at_bat</th><th scope=col>run</th><th scope=col>hit</th><th scope=col>double</th><th scope=col>triple</th><th scope=col>home_run</th><th scope=col>rbi</th><th scope=col>total_base</th><th scope=col>walk</th><th scope=col>strike_out</th><th scope=col>stolen_base</th><th scope=col>caught_stealing</th><th scope=col>obp</th><th scope=col>slg</th><th scope=col>bat_avg</th></tr></thead>\n",
       "<tbody>\n",
       "\t<tr><td>I Suzuki </td><td>SEA      </td><td>OF       </td><td>162      </td><td>680      </td><td> 74      </td><td>214      </td><td>30       </td><td>3        </td><td> 6       </td><td>43       </td><td>268      </td><td>45       </td><td> 86      </td><td>42       </td><td> 9       </td><td>0.359    </td><td>0.394    </td><td>0.315    </td></tr>\n",
       "\t<tr><td>D Jeter  </td><td>NYY      </td><td>SS       </td><td>157      </td><td>663      </td><td>111      </td><td>179      </td><td>30       </td><td>3        </td><td>10       </td><td>67       </td><td>245      </td><td>63       </td><td>106      </td><td>18       </td><td> 5       </td><td>0.340    </td><td>0.370    </td><td>0.270    </td></tr>\n",
       "\t<tr><td>M Young  </td><td>TEX      </td><td>3B       </td><td>157      </td><td>656      </td><td> 99      </td><td>186      </td><td>36       </td><td>3        </td><td>21       </td><td>91       </td><td>291      </td><td>50       </td><td>115      </td><td> 4       </td><td> 2       </td><td>0.330    </td><td>0.444    </td><td>0.284    </td></tr>\n",
       "\t<tr><td>J Pierre </td><td>CWS      </td><td>OF       </td><td>160      </td><td>651      </td><td> 96      </td><td>179      </td><td>18       </td><td>3        </td><td> 1       </td><td>47       </td><td>206      </td><td>45       </td><td> 47      </td><td>68       </td><td>18       </td><td>0.341    </td><td>0.316    </td><td>0.275    </td></tr>\n",
       "\t<tr><td>R Weeks  </td><td>MIL      </td><td>2B       </td><td>160      </td><td>651      </td><td>112      </td><td>175      </td><td>32       </td><td>4        </td><td>29       </td><td>83       </td><td>302      </td><td>76       </td><td>184      </td><td>11       </td><td> 4       </td><td>0.366    </td><td>0.464    </td><td>0.269    </td></tr>\n",
       "\t<tr><td>M Scutaro</td><td>BOS      </td><td>SS       </td><td>150      </td><td>632      </td><td> 92      </td><td>174      </td><td>38       </td><td>0        </td><td>11       </td><td>56       </td><td>245      </td><td>53       </td><td> 71      </td><td> 5       </td><td> 4       </td><td>0.333    </td><td>0.388    </td><td>0.275    </td></tr>\n",
       "</tbody>\n",
       "</table>\n"
      ],
      "text/latex": [
       "\\begin{tabular}{r|lllllllllllllllllll}\n",
       " name & team & position & game & at\\_bat & run & hit & double & triple & home\\_run & rbi & total\\_base & walk & strike\\_out & stolen\\_base & caught\\_stealing & obp & slg & bat\\_avg\\\\\n",
       "\\hline\n",
       "\t I Suzuki  & SEA       & OF        & 162       & 680       &  74       & 214       & 30        & 3         &  6        & 43        & 268       & 45        &  86       & 42        &  9        & 0.359     & 0.394     & 0.315    \\\\\n",
       "\t D Jeter   & NYY       & SS        & 157       & 663       & 111       & 179       & 30        & 3         & 10        & 67        & 245       & 63        & 106       & 18        &  5        & 0.340     & 0.370     & 0.270    \\\\\n",
       "\t M Young   & TEX       & 3B        & 157       & 656       &  99       & 186       & 36        & 3         & 21        & 91        & 291       & 50        & 115       &  4        &  2        & 0.330     & 0.444     & 0.284    \\\\\n",
       "\t J Pierre  & CWS       & OF        & 160       & 651       &  96       & 179       & 18        & 3         &  1        & 47        & 206       & 45        &  47       & 68        & 18        & 0.341     & 0.316     & 0.275    \\\\\n",
       "\t R Weeks   & MIL       & 2B        & 160       & 651       & 112       & 175       & 32        & 4         & 29        & 83        & 302       & 76        & 184       & 11        &  4        & 0.366     & 0.464     & 0.269    \\\\\n",
       "\t M Scutaro & BOS       & SS        & 150       & 632       &  92       & 174       & 38        & 0         & 11        & 56        & 245       & 53        &  71       &  5        &  4        & 0.333     & 0.388     & 0.275    \\\\\n",
       "\\end{tabular}\n"
      ],
      "text/markdown": [
       "\n",
       "| name | team | position | game | at_bat | run | hit | double | triple | home_run | rbi | total_base | walk | strike_out | stolen_base | caught_stealing | obp | slg | bat_avg |\n",
       "|---|---|---|---|---|---|---|---|---|---|---|---|---|---|---|---|---|---|---|\n",
       "| I Suzuki  | SEA       | OF        | 162       | 680       |  74       | 214       | 30        | 3         |  6        | 43        | 268       | 45        |  86       | 42        |  9        | 0.359     | 0.394     | 0.315     |\n",
       "| D Jeter   | NYY       | SS        | 157       | 663       | 111       | 179       | 30        | 3         | 10        | 67        | 245       | 63        | 106       | 18        |  5        | 0.340     | 0.370     | 0.270     |\n",
       "| M Young   | TEX       | 3B        | 157       | 656       |  99       | 186       | 36        | 3         | 21        | 91        | 291       | 50        | 115       |  4        |  2        | 0.330     | 0.444     | 0.284     |\n",
       "| J Pierre  | CWS       | OF        | 160       | 651       |  96       | 179       | 18        | 3         |  1        | 47        | 206       | 45        |  47       | 68        | 18        | 0.341     | 0.316     | 0.275     |\n",
       "| R Weeks   | MIL       | 2B        | 160       | 651       | 112       | 175       | 32        | 4         | 29        | 83        | 302       | 76        | 184       | 11        |  4        | 0.366     | 0.464     | 0.269     |\n",
       "| M Scutaro | BOS       | SS        | 150       | 632       |  92       | 174       | 38        | 0         | 11        | 56        | 245       | 53        |  71       |  5        |  4        | 0.333     | 0.388     | 0.275     |\n",
       "\n"
      ],
      "text/plain": [
       "  name      team position game at_bat run hit double triple home_run rbi\n",
       "1 I Suzuki  SEA  OF       162  680     74 214 30     3       6       43 \n",
       "2 D Jeter   NYY  SS       157  663    111 179 30     3      10       67 \n",
       "3 M Young   TEX  3B       157  656     99 186 36     3      21       91 \n",
       "4 J Pierre  CWS  OF       160  651     96 179 18     3       1       47 \n",
       "5 R Weeks   MIL  2B       160  651    112 175 32     4      29       83 \n",
       "6 M Scutaro BOS  SS       150  632     92 174 38     0      11       56 \n",
       "  total_base walk strike_out stolen_base caught_stealing obp   slg   bat_avg\n",
       "1 268        45    86        42           9              0.359 0.394 0.315  \n",
       "2 245        63   106        18           5              0.340 0.370 0.270  \n",
       "3 291        50   115         4           2              0.330 0.444 0.284  \n",
       "4 206        45    47        68          18              0.341 0.316 0.275  \n",
       "5 302        76   184        11           4              0.366 0.464 0.269  \n",
       "6 245        53    71         5           4              0.333 0.388 0.275  "
      ]
     },
     "metadata": {},
     "output_type": "display_data"
    }
   ],
   "source": [
    "head(mlbbat10)"
   ]
  },
  {
   "cell_type": "markdown",
   "metadata": {},
   "source": [
    "how the slugging percentage (SLG) of a player varies as a function of his on-base percentage (OBP)."
   ]
  },
  {
   "cell_type": "code",
   "execution_count": 14,
   "metadata": {},
   "outputs": [
    {
     "data": {
      "image/png": "[encoded data removed]",
      "text/plain": [
       "plot without title"
      ]
     },
     "metadata": {},
     "output_type": "display_data"
    }
   ],
   "source": [
    "# Baseball player scatterplot\n",
    "mlbbat10 %>%\n",
    "  ggplot(aes(y=slg, x=obp)) +\n",
    "  geom_point()\n"
   ]
  },
  {
   "cell_type": "code",
   "execution_count": 15,
   "metadata": {},
   "outputs": [
    {
     "data": {
      "text/html": [
       "<table>\n",
       "<thead><tr><th scope=col>bia_di</th><th scope=col>bii_di</th><th scope=col>bit_di</th><th scope=col>che_de</th><th scope=col>che_di</th><th scope=col>elb_di</th><th scope=col>wri_di</th><th scope=col>kne_di</th><th scope=col>ank_di</th><th scope=col>sho_gi</th><th scope=col>...</th><th scope=col>bic_gi</th><th scope=col>for_gi</th><th scope=col>kne_gi</th><th scope=col>cal_gi</th><th scope=col>ank_gi</th><th scope=col>wri_gi</th><th scope=col>age</th><th scope=col>wgt</th><th scope=col>hgt</th><th scope=col>sex</th></tr></thead>\n",
       "<tbody>\n",
       "\t<tr><td>42.9 </td><td>26.0 </td><td>31.5 </td><td>17.7 </td><td>28.0 </td><td>13.1 </td><td>10.4 </td><td>18.8 </td><td>14.1 </td><td>106.2</td><td>...  </td><td>32.5 </td><td>26.0 </td><td>34.5 </td><td>36.5 </td><td>23.5 </td><td>16.5 </td><td>21   </td><td>65.6 </td><td>174.0</td><td>1    </td></tr>\n",
       "\t<tr><td>43.7 </td><td>28.5 </td><td>33.5 </td><td>16.9 </td><td>30.8 </td><td>14.0 </td><td>11.8 </td><td>20.6 </td><td>15.1 </td><td>110.5</td><td>...  </td><td>34.4 </td><td>28.0 </td><td>36.5 </td><td>37.5 </td><td>24.5 </td><td>17.0 </td><td>23   </td><td>71.8 </td><td>175.3</td><td>1    </td></tr>\n",
       "\t<tr><td>40.1 </td><td>28.2 </td><td>33.3 </td><td>20.9 </td><td>31.7 </td><td>13.9 </td><td>10.9 </td><td>19.7 </td><td>14.1 </td><td>115.1</td><td>...  </td><td>33.4 </td><td>28.8 </td><td>37.0 </td><td>37.3 </td><td>21.9 </td><td>16.9 </td><td>28   </td><td>80.7 </td><td>193.5</td><td>1    </td></tr>\n",
       "\t<tr><td>44.3 </td><td>29.9 </td><td>34.0 </td><td>18.4 </td><td>28.2 </td><td>13.9 </td><td>11.2 </td><td>20.9 </td><td>15.0 </td><td>104.5</td><td>...  </td><td>31.0 </td><td>26.2 </td><td>37.0 </td><td>34.8 </td><td>23.0 </td><td>16.6 </td><td>23   </td><td>72.6 </td><td>186.5</td><td>1    </td></tr>\n",
       "\t<tr><td>42.5 </td><td>29.9 </td><td>34.0 </td><td>21.5 </td><td>29.4 </td><td>15.2 </td><td>11.6 </td><td>20.7 </td><td>14.9 </td><td>107.5</td><td>...  </td><td>32.0 </td><td>28.4 </td><td>37.7 </td><td>38.6 </td><td>24.4 </td><td>18.0 </td><td>22   </td><td>78.8 </td><td>187.2</td><td>1    </td></tr>\n",
       "\t<tr><td>43.3 </td><td>27.0 </td><td>31.5 </td><td>19.6 </td><td>31.3 </td><td>14.0 </td><td>11.5 </td><td>18.8 </td><td>13.9 </td><td>119.8</td><td>...  </td><td>33.0 </td><td>28.0 </td><td>36.6 </td><td>36.1 </td><td>23.5 </td><td>16.9 </td><td>21   </td><td>74.8 </td><td>181.5</td><td>1    </td></tr>\n",
       "</tbody>\n",
       "</table>\n"
      ],
      "text/latex": [
       "\\begin{tabular}{r|lllllllllllllllllllllllll}\n",
       " bia\\_di & bii\\_di & bit\\_di & che\\_de & che\\_di & elb\\_di & wri\\_di & kne\\_di & ank\\_di & sho\\_gi & ... & bic\\_gi & for\\_gi & kne\\_gi & cal\\_gi & ank\\_gi & wri\\_gi & age & wgt & hgt & sex\\\\\n",
       "\\hline\n",
       "\t 42.9  & 26.0  & 31.5  & 17.7  & 28.0  & 13.1  & 10.4  & 18.8  & 14.1  & 106.2 & ...   & 32.5  & 26.0  & 34.5  & 36.5  & 23.5  & 16.5  & 21    & 65.6  & 174.0 & 1    \\\\\n",
       "\t 43.7  & 28.5  & 33.5  & 16.9  & 30.8  & 14.0  & 11.8  & 20.6  & 15.1  & 110.5 & ...   & 34.4  & 28.0  & 36.5  & 37.5  & 24.5  & 17.0  & 23    & 71.8  & 175.3 & 1    \\\\\n",
       "\t 40.1  & 28.2  & 33.3  & 20.9  & 31.7  & 13.9  & 10.9  & 19.7  & 14.1  & 115.1 & ...   & 33.4  & 28.8  & 37.0  & 37.3  & 21.9  & 16.9  & 28    & 80.7  & 193.5 & 1    \\\\\n",
       "\t 44.3  & 29.9  & 34.0  & 18.4  & 28.2  & 13.9  & 11.2  & 20.9  & 15.0  & 104.5 & ...   & 31.0  & 26.2  & 37.0  & 34.8  & 23.0  & 16.6  & 23    & 72.6  & 186.5 & 1    \\\\\n",
       "\t 42.5  & 29.9  & 34.0  & 21.5  & 29.4  & 15.2  & 11.6  & 20.7  & 14.9  & 107.5 & ...   & 32.0  & 28.4  & 37.7  & 38.6  & 24.4  & 18.0  & 22    & 78.8  & 187.2 & 1    \\\\\n",
       "\t 43.3  & 27.0  & 31.5  & 19.6  & 31.3  & 14.0  & 11.5  & 18.8  & 13.9  & 119.8 & ...   & 33.0  & 28.0  & 36.6  & 36.1  & 23.5  & 16.9  & 21    & 74.8  & 181.5 & 1    \\\\\n",
       "\\end{tabular}\n"
      ],
      "text/markdown": [
       "\n",
       "| bia_di | bii_di | bit_di | che_de | che_di | elb_di | wri_di | kne_di | ank_di | sho_gi | ... | bic_gi | for_gi | kne_gi | cal_gi | ank_gi | wri_gi | age | wgt | hgt | sex |\n",
       "|---|---|---|---|---|---|---|---|---|---|---|---|---|---|---|---|---|---|---|---|---|\n",
       "| 42.9  | 26.0  | 31.5  | 17.7  | 28.0  | 13.1  | 10.4  | 18.8  | 14.1  | 106.2 | ...   | 32.5  | 26.0  | 34.5  | 36.5  | 23.5  | 16.5  | 21    | 65.6  | 174.0 | 1     |\n",
       "| 43.7  | 28.5  | 33.5  | 16.9  | 30.8  | 14.0  | 11.8  | 20.6  | 15.1  | 110.5 | ...   | 34.4  | 28.0  | 36.5  | 37.5  | 24.5  | 17.0  | 23    | 71.8  | 175.3 | 1     |\n",
       "| 40.1  | 28.2  | 33.3  | 20.9  | 31.7  | 13.9  | 10.9  | 19.7  | 14.1  | 115.1 | ...   | 33.4  | 28.8  | 37.0  | 37.3  | 21.9  | 16.9  | 28    | 80.7  | 193.5 | 1     |\n",
       "| 44.3  | 29.9  | 34.0  | 18.4  | 28.2  | 13.9  | 11.2  | 20.9  | 15.0  | 104.5 | ...   | 31.0  | 26.2  | 37.0  | 34.8  | 23.0  | 16.6  | 23    | 72.6  | 186.5 | 1     |\n",
       "| 42.5  | 29.9  | 34.0  | 21.5  | 29.4  | 15.2  | 11.6  | 20.7  | 14.9  | 107.5 | ...   | 32.0  | 28.4  | 37.7  | 38.6  | 24.4  | 18.0  | 22    | 78.8  | 187.2 | 1     |\n",
       "| 43.3  | 27.0  | 31.5  | 19.6  | 31.3  | 14.0  | 11.5  | 18.8  | 13.9  | 119.8 | ...   | 33.0  | 28.0  | 36.6  | 36.1  | 23.5  | 16.9  | 21    | 74.8  | 181.5 | 1     |\n",
       "\n"
      ],
      "text/plain": [
       "  bia_di bii_di bit_di che_de che_di elb_di wri_di kne_di ank_di sho_gi ...\n",
       "1 42.9   26.0   31.5   17.7   28.0   13.1   10.4   18.8   14.1   106.2  ...\n",
       "2 43.7   28.5   33.5   16.9   30.8   14.0   11.8   20.6   15.1   110.5  ...\n",
       "3 40.1   28.2   33.3   20.9   31.7   13.9   10.9   19.7   14.1   115.1  ...\n",
       "4 44.3   29.9   34.0   18.4   28.2   13.9   11.2   20.9   15.0   104.5  ...\n",
       "5 42.5   29.9   34.0   21.5   29.4   15.2   11.6   20.7   14.9   107.5  ...\n",
       "6 43.3   27.0   31.5   19.6   31.3   14.0   11.5   18.8   13.9   119.8  ...\n",
       "  bic_gi for_gi kne_gi cal_gi ank_gi wri_gi age wgt  hgt   sex\n",
       "1 32.5   26.0   34.5   36.5   23.5   16.5   21  65.6 174.0 1  \n",
       "2 34.4   28.0   36.5   37.5   24.5   17.0   23  71.8 175.3 1  \n",
       "3 33.4   28.8   37.0   37.3   21.9   16.9   28  80.7 193.5 1  \n",
       "4 31.0   26.2   37.0   34.8   23.0   16.6   23  72.6 186.5 1  \n",
       "5 32.0   28.4   37.7   38.6   24.4   18.0   22  78.8 187.2 1  \n",
       "6 33.0   28.0   36.6   36.1   23.5   16.9   21  74.8 181.5 1  "
      ]
     },
     "metadata": {},
     "output_type": "display_data"
    }
   ],
   "source": [
    "head(bdims)"
   ]
  },
  {
   "cell_type": "markdown",
   "metadata": {},
   "source": [
    "how a person's weight varies as a function of their height. We'll use color to separate by sex, which we'll need to coerce to a factor with `factor()`."
   ]
  },
  {
   "cell_type": "code",
   "execution_count": 16,
   "metadata": {},
   "outputs": [
    {
     "data": {
      "image/png": "[encoded data removed]",
      "text/plain": [
       "plot without title"
      ]
     },
     "metadata": {},
     "output_type": "display_data"
    }
   ],
   "source": [
    "# Body dimensions scatterplot\n",
    "bdims%>%\n",
    "  ggplot(aes(x=hgt, y=wgt, color=factor(sex))) +\n",
    "  geom_point()"
   ]
  },
  {
   "cell_type": "code",
   "execution_count": 17,
   "metadata": {},
   "outputs": [
    {
     "data": {
      "text/html": [
       "<table>\n",
       "<thead><tr><th scope=col>gender</th><th scope=col>age</th><th scope=col>marital_status</th><th scope=col>highest_qualification</th><th scope=col>nationality</th><th scope=col>ethnicity</th><th scope=col>gross_income</th><th scope=col>region</th><th scope=col>smoke</th><th scope=col>amt_weekends</th><th scope=col>amt_weekdays</th><th scope=col>type</th></tr></thead>\n",
       "<tbody>\n",
       "\t<tr><td>Male            </td><td>38              </td><td>Divorced        </td><td>No Qualification</td><td>British         </td><td>White           </td><td>2,600 to 5,200  </td><td>The North       </td><td>No              </td><td>NA              </td><td>NA              </td><td>                </td></tr>\n",
       "\t<tr><td>Female          </td><td>42              </td><td>Single          </td><td>No Qualification</td><td>British         </td><td>White           </td><td>Under 2,600     </td><td>The North       </td><td>Yes             </td><td>12              </td><td>12              </td><td>Packets         </td></tr>\n",
       "\t<tr><td>Male            </td><td>40              </td><td>Married         </td><td>Degree          </td><td>English         </td><td>White           </td><td>28,600 to 36,400</td><td>The North       </td><td>No              </td><td>NA              </td><td>NA              </td><td>                </td></tr>\n",
       "\t<tr><td>Female          </td><td>40              </td><td>Married         </td><td>Degree          </td><td>English         </td><td>White           </td><td>10,400 to 15,600</td><td>The North       </td><td>No              </td><td>NA              </td><td>NA              </td><td>                </td></tr>\n",
       "\t<tr><td>Female          </td><td>39              </td><td>Married         </td><td>GCSE/O Level    </td><td>British         </td><td>White           </td><td>2,600 to 5,200  </td><td>The North       </td><td>No              </td><td>NA              </td><td>NA              </td><td>                </td></tr>\n",
       "\t<tr><td>Female          </td><td>37              </td><td>Married         </td><td>GCSE/O Level    </td><td>British         </td><td>White           </td><td>15,600 to 20,800</td><td>The North       </td><td>No              </td><td>NA              </td><td>NA              </td><td>                </td></tr>\n",
       "</tbody>\n",
       "</table>\n"
      ],
      "text/latex": [
       "\\begin{tabular}{r|llllllllllll}\n",
       " gender & age & marital\\_status & highest\\_qualification & nationality & ethnicity & gross\\_income & region & smoke & amt\\_weekends & amt\\_weekdays & type\\\\\n",
       "\\hline\n",
       "\t Male             & 38               & Divorced         & No Qualification & British          & White            & 2,600 to 5,200   & The North        & No               & NA               & NA               &                 \\\\\n",
       "\t Female           & 42               & Single           & No Qualification & British          & White            & Under 2,600      & The North        & Yes              & 12               & 12               & Packets         \\\\\n",
       "\t Male             & 40               & Married          & Degree           & English          & White            & 28,600 to 36,400 & The North        & No               & NA               & NA               &                 \\\\\n",
       "\t Female           & 40               & Married          & Degree           & English          & White            & 10,400 to 15,600 & The North        & No               & NA               & NA               &                 \\\\\n",
       "\t Female           & 39               & Married          & GCSE/O Level     & British          & White            & 2,600 to 5,200   & The North        & No               & NA               & NA               &                 \\\\\n",
       "\t Female           & 37               & Married          & GCSE/O Level     & British          & White            & 15,600 to 20,800 & The North        & No               & NA               & NA               &                 \\\\\n",
       "\\end{tabular}\n"
      ],
      "text/markdown": [
       "\n",
       "| gender | age | marital_status | highest_qualification | nationality | ethnicity | gross_income | region | smoke | amt_weekends | amt_weekdays | type |\n",
       "|---|---|---|---|---|---|---|---|---|---|---|---|\n",
       "| Male             | 38               | Divorced         | No Qualification | British          | White            | 2,600 to 5,200   | The North        | No               | NA               | NA               |                  |\n",
       "| Female           | 42               | Single           | No Qualification | British          | White            | Under 2,600      | The North        | Yes              | 12               | 12               | Packets          |\n",
       "| Male             | 40               | Married          | Degree           | English          | White            | 28,600 to 36,400 | The North        | No               | NA               | NA               |                  |\n",
       "| Female           | 40               | Married          | Degree           | English          | White            | 10,400 to 15,600 | The North        | No               | NA               | NA               |                  |\n",
       "| Female           | 39               | Married          | GCSE/O Level     | British          | White            | 2,600 to 5,200   | The North        | No               | NA               | NA               |                  |\n",
       "| Female           | 37               | Married          | GCSE/O Level     | British          | White            | 15,600 to 20,800 | The North        | No               | NA               | NA               |                  |\n",
       "\n"
      ],
      "text/plain": [
       "  gender age marital_status highest_qualification nationality ethnicity\n",
       "1 Male   38  Divorced       No Qualification      British     White    \n",
       "2 Female 42  Single         No Qualification      British     White    \n",
       "3 Male   40  Married        Degree                English     White    \n",
       "4 Female 40  Married        Degree                English     White    \n",
       "5 Female 39  Married        GCSE/O Level          British     White    \n",
       "6 Female 37  Married        GCSE/O Level          British     White    \n",
       "  gross_income     region    smoke amt_weekends amt_weekdays type   \n",
       "1 2,600 to 5,200   The North No    NA           NA                  \n",
       "2 Under 2,600      The North Yes   12           12           Packets\n",
       "3 28,600 to 36,400 The North No    NA           NA                  \n",
       "4 10,400 to 15,600 The North No    NA           NA                  \n",
       "5 2,600 to 5,200   The North No    NA           NA                  \n",
       "6 15,600 to 20,800 The North No    NA           NA                  "
      ]
     },
     "metadata": {},
     "output_type": "display_data"
    }
   ],
   "source": [
    "head(smoking)"
   ]
  },
  {
   "cell_type": "markdown",
   "metadata": {},
   "source": [
    "how the amount that a person smokes on weekdays varies as a function of their age."
   ]
  },
  {
   "cell_type": "code",
   "execution_count": 18,
   "metadata": {},
   "outputs": [
    {
     "name": "stderr",
     "output_type": "stream",
     "text": [
      "Warning message:\n",
      "\"Removed 1270 rows containing missing values (geom_point).\""
     ]
    },
    {
     "data": {
      "image/png": "[encoded data removed]",
      "text/plain": [
       "plot without title"
      ]
     },
     "metadata": {},
     "output_type": "display_data"
    }
   ],
   "source": [
    "smoking %>%\n",
    "    ggplot(aes(x=age, y=amt_weekdays)) + \n",
    "    geom_point()"
   ]
  },
  {
   "cell_type": "code",
   "execution_count": 19,
   "metadata": {},
   "outputs": [
    {
     "data": {
      "text/html": [
       "<table>\n",
       "<thead><tr><th scope=col>name</th><th scope=col>state</th><th scope=col>pop2000</th><th scope=col>pop2010</th><th scope=col>pop2017</th><th scope=col>pop_change</th><th scope=col>poverty</th><th scope=col>homeownership</th><th scope=col>multi_unit</th><th scope=col>unemployment_rate</th><th scope=col>metro</th><th scope=col>median_edu</th><th scope=col>per_capita_income</th><th scope=col>median_hh_income</th><th scope=col>smoking_ban</th></tr></thead>\n",
       "<tbody>\n",
       "\t<tr><td>Autauga County</td><td>Alabama       </td><td> 43671        </td><td> 54571        </td><td> 55504        </td><td> 1.48         </td><td>13.7          </td><td>77.5          </td><td> 7.2          </td><td>3.86          </td><td>yes           </td><td>some_college  </td><td>27841.70      </td><td>55317         </td><td>none          </td></tr>\n",
       "\t<tr><td>Baldwin County</td><td>Alabama       </td><td>140415        </td><td>182265        </td><td>212628        </td><td> 9.19         </td><td>11.8          </td><td>76.7          </td><td>22.6          </td><td>3.99          </td><td>yes           </td><td>some_college  </td><td>27779.85      </td><td>52562         </td><td>none          </td></tr>\n",
       "\t<tr><td>Barbour County</td><td>Alabama       </td><td> 29038        </td><td> 27457        </td><td> 25270        </td><td>-6.22         </td><td>27.2          </td><td>68.0          </td><td>11.1          </td><td>5.90          </td><td>no            </td><td>hs_diploma    </td><td>17891.73      </td><td>33368         </td><td>partial       </td></tr>\n",
       "\t<tr><td>Bibb County   </td><td>Alabama       </td><td> 20826        </td><td> 22915        </td><td> 22668        </td><td> 0.73         </td><td>15.2          </td><td>82.9          </td><td> 6.6          </td><td>4.39          </td><td>yes           </td><td>hs_diploma    </td><td>20572.05      </td><td>43404         </td><td>none          </td></tr>\n",
       "\t<tr><td>Blount County </td><td>Alabama       </td><td> 51024        </td><td> 57322        </td><td> 58013        </td><td> 0.68         </td><td>15.6          </td><td>82.0          </td><td> 3.7          </td><td>4.02          </td><td>yes           </td><td>hs_diploma    </td><td>21367.39      </td><td>47412         </td><td>none          </td></tr>\n",
       "\t<tr><td>Bullock County</td><td>Alabama       </td><td> 11714        </td><td> 10914        </td><td> 10309        </td><td>-2.28         </td><td>28.5          </td><td>76.9          </td><td> 9.9          </td><td>4.93          </td><td>no            </td><td>hs_diploma    </td><td>15444.16      </td><td>29655         </td><td>none          </td></tr>\n",
       "</tbody>\n",
       "</table>\n"
      ],
      "text/latex": [
       "\\begin{tabular}{r|lllllllllllllll}\n",
       " name & state & pop2000 & pop2010 & pop2017 & pop\\_change & poverty & homeownership & multi\\_unit & unemployment\\_rate & metro & median\\_edu & per\\_capita\\_income & median\\_hh\\_income & smoking\\_ban\\\\\n",
       "\\hline\n",
       "\t Autauga County & Alabama        &  43671         &  54571         &  55504         &  1.48          & 13.7           & 77.5           &  7.2           & 3.86           & yes            & some\\_college & 27841.70       & 55317          & none          \\\\\n",
       "\t Baldwin County & Alabama        & 140415         & 182265         & 212628         &  9.19          & 11.8           & 76.7           & 22.6           & 3.99           & yes            & some\\_college & 27779.85       & 52562          & none          \\\\\n",
       "\t Barbour County & Alabama        &  29038         &  27457         &  25270         & -6.22          & 27.2           & 68.0           & 11.1           & 5.90           & no             & hs\\_diploma   & 17891.73       & 33368          & partial       \\\\\n",
       "\t Bibb County    & Alabama        &  20826         &  22915         &  22668         &  0.73          & 15.2           & 82.9           &  6.6           & 4.39           & yes            & hs\\_diploma   & 20572.05       & 43404          & none          \\\\\n",
       "\t Blount County  & Alabama        &  51024         &  57322         &  58013         &  0.68          & 15.6           & 82.0           &  3.7           & 4.02           & yes            & hs\\_diploma   & 21367.39       & 47412          & none          \\\\\n",
       "\t Bullock County & Alabama        &  11714         &  10914         &  10309         & -2.28          & 28.5           & 76.9           &  9.9           & 4.93           & no             & hs\\_diploma   & 15444.16       & 29655          & none          \\\\\n",
       "\\end{tabular}\n"
      ],
      "text/markdown": [
       "\n",
       "| name | state | pop2000 | pop2010 | pop2017 | pop_change | poverty | homeownership | multi_unit | unemployment_rate | metro | median_edu | per_capita_income | median_hh_income | smoking_ban |\n",
       "|---|---|---|---|---|---|---|---|---|---|---|---|---|---|---|\n",
       "| Autauga County | Alabama        |  43671         |  54571         |  55504         |  1.48          | 13.7           | 77.5           |  7.2           | 3.86           | yes            | some_college   | 27841.70       | 55317          | none           |\n",
       "| Baldwin County | Alabama        | 140415         | 182265         | 212628         |  9.19          | 11.8           | 76.7           | 22.6           | 3.99           | yes            | some_college   | 27779.85       | 52562          | none           |\n",
       "| Barbour County | Alabama        |  29038         |  27457         |  25270         | -6.22          | 27.2           | 68.0           | 11.1           | 5.90           | no             | hs_diploma     | 17891.73       | 33368          | partial        |\n",
       "| Bibb County    | Alabama        |  20826         |  22915         |  22668         |  0.73          | 15.2           | 82.9           |  6.6           | 4.39           | yes            | hs_diploma     | 20572.05       | 43404          | none           |\n",
       "| Blount County  | Alabama        |  51024         |  57322         |  58013         |  0.68          | 15.6           | 82.0           |  3.7           | 4.02           | yes            | hs_diploma     | 21367.39       | 47412          | none           |\n",
       "| Bullock County | Alabama        |  11714         |  10914         |  10309         | -2.28          | 28.5           | 76.9           |  9.9           | 4.93           | no             | hs_diploma     | 15444.16       | 29655          | none           |\n",
       "\n"
      ],
      "text/plain": [
       "  name           state   pop2000 pop2010 pop2017 pop_change poverty\n",
       "1 Autauga County Alabama  43671   54571   55504   1.48      13.7   \n",
       "2 Baldwin County Alabama 140415  182265  212628   9.19      11.8   \n",
       "3 Barbour County Alabama  29038   27457   25270  -6.22      27.2   \n",
       "4 Bibb County    Alabama  20826   22915   22668   0.73      15.2   \n",
       "5 Blount County  Alabama  51024   57322   58013   0.68      15.6   \n",
       "6 Bullock County Alabama  11714   10914   10309  -2.28      28.5   \n",
       "  homeownership multi_unit unemployment_rate metro median_edu  \n",
       "1 77.5           7.2       3.86              yes   some_college\n",
       "2 76.7          22.6       3.99              yes   some_college\n",
       "3 68.0          11.1       5.90              no    hs_diploma  \n",
       "4 82.9           6.6       4.39              yes   hs_diploma  \n",
       "5 82.0           3.7       4.02              yes   hs_diploma  \n",
       "6 76.9           9.9       4.93              no    hs_diploma  \n",
       "  per_capita_income median_hh_income smoking_ban\n",
       "1 27841.70          55317            none       \n",
       "2 27779.85          52562            none       \n",
       "3 17891.73          33368            partial    \n",
       "4 20572.05          43404            none       \n",
       "5 21367.39          47412            none       \n",
       "6 15444.16          29655            none       "
      ]
     },
     "metadata": {},
     "output_type": "display_data"
    }
   ],
   "source": [
    "head(county)"
   ]
  },
  {
   "cell_type": "code",
   "execution_count": 20,
   "metadata": {},
   "outputs": [
    {
     "data": {
      "text/plain": [
       "\n",
       "    below_hs   hs_diploma some_college    bachelors \n",
       "           2         1397         1695           46 "
      ]
     },
     "metadata": {},
     "output_type": "display_data"
    }
   ],
   "source": [
    "table(county$median_edu)"
   ]
  },
  {
   "cell_type": "markdown",
   "metadata": {},
   "source": [
    "### Transformations\n",
    "\n",
    "The relationship between two variables may not be linear. In these cases we can sometimes see strange and even inscrutable patterns in a scatterplot of the data. Sometimes there really is no meaningful relationship between the two variables. Other times, a careful transformation of one or both of the variables can reveal a clear relationship.\n",
    "\n",
    "`ggplot2` provides several different mechanisms for viewing transformed relationships. The `coord_trans()` function transforms the coordinates of the plot. Alternatively, the `scale_x_log10()` and `scale_y_log10()` functions perform a base-10 log transformation of each axis."
   ]
  },
  {
   "cell_type": "code",
   "execution_count": 21,
   "metadata": {},
   "outputs": [
    {
     "data": {
      "image/png": "[encoded data removed]",
      "text/plain": [
       "plot without title"
      ]
     },
     "metadata": {},
     "output_type": "display_data"
    }
   ],
   "source": [
    "mammals %>%\n",
    "    ggplot(aes(x=body_wt, y=brain_wt)) +\n",
    "    geom_point() +\n",
    "    coord_trans(x=\"log10\", y=\"log10\")"
   ]
  },
  {
   "cell_type": "code",
   "execution_count": 22,
   "metadata": {},
   "outputs": [
    {
     "data": {
      "image/png": "[encoded data removed]",
      "text/plain": [
       "plot without title"
      ]
     },
     "metadata": {},
     "output_type": "display_data"
    }
   ],
   "source": [
    "mammals %>%\n",
    "    ggplot(aes(x=body_wt, y=brain_wt)) +\n",
    "    geom_point() +\n",
    "    scale_x_log10() +\n",
    "    scale_y_log10()"
   ]
  },
  {
   "cell_type": "markdown",
   "metadata": {},
   "source": [
    "## Outliers\n"
   ]
  },
  {
   "cell_type": "code",
   "execution_count": 23,
   "metadata": {},
   "outputs": [
    {
     "data": {
      "image/png": "[encoded data removed]",
      "text/plain": [
       "plot without title"
      ]
     },
     "metadata": {},
     "output_type": "display_data"
    }
   ],
   "source": [
    "mlbbat10 %>%\n",
    "    ggplot(aes(x=stolen_base, y=home_run)) +\n",
    "    geom_point()"
   ]
  },
  {
   "cell_type": "code",
   "execution_count": 24,
   "metadata": {},
   "outputs": [
    {
     "data": {
      "image/png": "[encoded data removed]",
      "text/plain": [
       "plot without title"
      ]
     },
     "metadata": {},
     "output_type": "display_data"
    }
   ],
   "source": [
    "mlbbat10 %>%\n",
    "    ggplot(aes(x=stolen_base, y=home_run)) +\n",
    "    geom_point(alpha=.5)"
   ]
  },
  {
   "cell_type": "markdown",
   "metadata": {},
   "source": [
    "> ### Add some jitter"
   ]
  },
  {
   "cell_type": "code",
   "execution_count": 25,
   "metadata": {},
   "outputs": [
    {
     "data": {
      "image/png": "[encoded data removed]",
      "text/plain": [
       "plot without title"
      ]
     },
     "metadata": {},
     "output_type": "display_data"
    }
   ],
   "source": [
    "mlbbat10 %>%\n",
    "    ggplot(aes(x=stolen_base, y=home_run)) +\n",
    "    geom_point(alpha=.5, position=\"jitter\")"
   ]
  },
  {
   "cell_type": "code",
   "execution_count": 26,
   "metadata": {},
   "outputs": [
    {
     "data": {
      "text/html": [
       "<ol class=list-inline>\n",
       "\t<li>'name'</li>\n",
       "\t<li>'team'</li>\n",
       "\t<li>'position'</li>\n",
       "\t<li>'game'</li>\n",
       "\t<li>'at_bat'</li>\n",
       "\t<li>'run'</li>\n",
       "\t<li>'hit'</li>\n",
       "\t<li>'double'</li>\n",
       "\t<li>'triple'</li>\n",
       "\t<li>'home_run'</li>\n",
       "\t<li>'rbi'</li>\n",
       "\t<li>'total_base'</li>\n",
       "\t<li>'walk'</li>\n",
       "\t<li>'strike_out'</li>\n",
       "\t<li>'stolen_base'</li>\n",
       "\t<li>'caught_stealing'</li>\n",
       "\t<li>'obp'</li>\n",
       "\t<li>'slg'</li>\n",
       "\t<li>'bat_avg'</li>\n",
       "</ol>\n"
      ],
      "text/latex": [
       "\\begin{enumerate*}\n",
       "\\item 'name'\n",
       "\\item 'team'\n",
       "\\item 'position'\n",
       "\\item 'game'\n",
       "\\item 'at\\_bat'\n",
       "\\item 'run'\n",
       "\\item 'hit'\n",
       "\\item 'double'\n",
       "\\item 'triple'\n",
       "\\item 'home\\_run'\n",
       "\\item 'rbi'\n",
       "\\item 'total\\_base'\n",
       "\\item 'walk'\n",
       "\\item 'strike\\_out'\n",
       "\\item 'stolen\\_base'\n",
       "\\item 'caught\\_stealing'\n",
       "\\item 'obp'\n",
       "\\item 'slg'\n",
       "\\item 'bat\\_avg'\n",
       "\\end{enumerate*}\n"
      ],
      "text/markdown": [
       "1. 'name'\n",
       "2. 'team'\n",
       "3. 'position'\n",
       "4. 'game'\n",
       "5. 'at_bat'\n",
       "6. 'run'\n",
       "7. 'hit'\n",
       "8. 'double'\n",
       "9. 'triple'\n",
       "10. 'home_run'\n",
       "11. 'rbi'\n",
       "12. 'total_base'\n",
       "13. 'walk'\n",
       "14. 'strike_out'\n",
       "15. 'stolen_base'\n",
       "16. 'caught_stealing'\n",
       "17. 'obp'\n",
       "18. 'slg'\n",
       "19. 'bat_avg'\n",
       "\n",
       "\n"
      ],
      "text/plain": [
       " [1] \"name\"            \"team\"            \"position\"        \"game\"           \n",
       " [5] \"at_bat\"          \"run\"             \"hit\"             \"double\"         \n",
       " [9] \"triple\"          \"home_run\"        \"rbi\"             \"total_base\"     \n",
       "[13] \"walk\"            \"strike_out\"      \"stolen_base\"     \"caught_stealing\"\n",
       "[17] \"obp\"             \"slg\"             \"bat_avg\"        "
      ]
     },
     "metadata": {},
     "output_type": "display_data"
    }
   ],
   "source": [
    "names(mlbbat10)"
   ]
  },
  {
   "cell_type": "markdown",
   "metadata": {},
   "source": [
    "> ### Identify the outliers"
   ]
  },
  {
   "cell_type": "code",
   "execution_count": 27,
   "metadata": {},
   "outputs": [
    {
     "data": {
      "text/html": [
       "<table>\n",
       "<thead><tr><th scope=col>name</th><th scope=col>team</th><th scope=col>position</th><th scope=col>stolen_base</th><th scope=col>home_run</th></tr></thead>\n",
       "<tbody>\n",
       "\t<tr><td>J Pierre  </td><td>CWS       </td><td>OF        </td><td>68        </td><td> 1        </td></tr>\n",
       "\t<tr><td>J Bautista</td><td>TOR       </td><td>OF        </td><td> 9        </td><td>54        </td></tr>\n",
       "</tbody>\n",
       "</table>\n"
      ],
      "text/latex": [
       "\\begin{tabular}{r|lllll}\n",
       " name & team & position & stolen\\_base & home\\_run\\\\\n",
       "\\hline\n",
       "\t J Pierre   & CWS        & OF         & 68         &  1        \\\\\n",
       "\t J Bautista & TOR        & OF         &  9         & 54        \\\\\n",
       "\\end{tabular}\n"
      ],
      "text/markdown": [
       "\n",
       "| name | team | position | stolen_base | home_run |\n",
       "|---|---|---|---|---|\n",
       "| J Pierre   | CWS        | OF         | 68         |  1         |\n",
       "| J Bautista | TOR        | OF         |  9         | 54         |\n",
       "\n"
      ],
      "text/plain": [
       "  name       team position stolen_base home_run\n",
       "1 J Pierre   CWS  OF       68           1      \n",
       "2 J Bautista TOR  OF        9          54      "
      ]
     },
     "metadata": {},
     "output_type": "display_data"
    }
   ],
   "source": [
    "head(\n",
    "    mlbbat10 %>%\n",
    "        filter(stolen_base>60 | home_run>50) %>%\n",
    "            select(name, team, position, stolen_base, home_run)\n",
    ")"
   ]
  },
  {
   "cell_type": "markdown",
   "metadata": {},
   "source": [
    "### Identifying outliers\n",
    "\n",
    "in the baseball dataset, most of the points were clustered in the lower left corner of the plot, making it difficult to see the general pattern of the majority of the data. This difficulty was caused by a few outlying players whose on-base percentages (OBPs) were exceptionally high. These values are present in our dataset only because these players had very few batting opportunities.\n",
    "\n",
    "Both OBP and SLG are known as _rate_ statistics, since they measure the frequency of certain events (as opposed to their count). In order to compare these rates sensibly, it makes sense to include only players with a reasonable number of opportunities, so that these observed rates have the chance to approach their long-run frequencies.\n",
    "\n",
    "In Major League Baseball, batters qualify for the batting title only if they have 3.1 plate appearances per game. This translates into roughly 502 plate appearances in a 162-game season. The `mlbbat10` dataset does not include plate appearances as a variable, but we can use at-bats (AB) -- which constitute a subset of plate appearances -- as a proxy."
   ]
  },
  {
   "cell_type": "code",
   "execution_count": 28,
   "metadata": {},
   "outputs": [
    {
     "data": {
      "image/png": "[encoded data removed]",
      "text/plain": [
       "plot without title"
      ]
     },
     "metadata": {},
     "output_type": "display_data"
    }
   ],
   "source": [
    "# Filter for AB greater than or equal to 200\n",
    "ab_gt_200 <- mlbbat10 %>%\n",
    "  filter(at_bat>=200) \n",
    "\n",
    "# Scatterplot of SLG vs. OBP\n",
    "ggplot(ab_gt_200, aes(x = obp, y = slg)) +\n",
    "  geom_point()"
   ]
  },
  {
   "cell_type": "code",
   "execution_count": 29,
   "metadata": {},
   "outputs": [
    {
     "data": {
      "text/html": [
       "<table>\n",
       "<thead><tr><th scope=col>name</th><th scope=col>team</th><th scope=col>position</th><th scope=col>game</th><th scope=col>at_bat</th><th scope=col>run</th><th scope=col>hit</th><th scope=col>double</th><th scope=col>triple</th><th scope=col>home_run</th><th scope=col>rbi</th><th scope=col>total_base</th><th scope=col>walk</th><th scope=col>strike_out</th><th scope=col>stolen_base</th><th scope=col>caught_stealing</th><th scope=col>obp</th><th scope=col>slg</th><th scope=col>bat_avg</th></tr></thead>\n",
       "<tbody>\n",
       "\t<tr><td>B Wood</td><td>LAA   </td><td>3B    </td><td>81    </td><td>226   </td><td>20    </td><td>33    </td><td>2     </td><td>0     </td><td>4     </td><td>14    </td><td>47    </td><td>6     </td><td>71    </td><td>1     </td><td>0     </td><td>0.174 </td><td>0.208 </td><td>0.146 </td></tr>\n",
       "</tbody>\n",
       "</table>\n"
      ],
      "text/latex": [
       "\\begin{tabular}{r|lllllllllllllllllll}\n",
       " name & team & position & game & at\\_bat & run & hit & double & triple & home\\_run & rbi & total\\_base & walk & strike\\_out & stolen\\_base & caught\\_stealing & obp & slg & bat\\_avg\\\\\n",
       "\\hline\n",
       "\t B Wood & LAA    & 3B     & 81     & 226    & 20     & 33     & 2      & 0      & 4      & 14     & 47     & 6      & 71     & 1      & 0      & 0.174  & 0.208  & 0.146 \\\\\n",
       "\\end{tabular}\n"
      ],
      "text/markdown": [
       "\n",
       "| name | team | position | game | at_bat | run | hit | double | triple | home_run | rbi | total_base | walk | strike_out | stolen_base | caught_stealing | obp | slg | bat_avg |\n",
       "|---|---|---|---|---|---|---|---|---|---|---|---|---|---|---|---|---|---|---|\n",
       "| B Wood | LAA    | 3B     | 81     | 226    | 20     | 33     | 2      | 0      | 4      | 14     | 47     | 6      | 71     | 1      | 0      | 0.174  | 0.208  | 0.146  |\n",
       "\n"
      ],
      "text/plain": [
       "  name   team position game at_bat run hit double triple home_run rbi\n",
       "1 B Wood LAA  3B       81   226    20  33  2      0      4        14 \n",
       "  total_base walk strike_out stolen_base caught_stealing obp   slg   bat_avg\n",
       "1 47         6    71         1           0               0.174 0.208 0.146  "
      ]
     },
     "metadata": {},
     "output_type": "display_data"
    }
   ],
   "source": [
    "# Identify the outlying player\n",
    "ab_gt_200 %>%\n",
    "  filter(obp<.2)"
   ]
  },
  {
   "cell_type": "markdown",
   "metadata": {},
   "source": [
    "# Correlation\n",
    "\n",
    "Correlation as a means of quantifying bivariate relationships."
   ]
  },
  {
   "cell_type": "markdown",
   "metadata": {},
   "source": [
    "### Quantifying the strength of bivariate relationships\n",
    "\n",
    "> ### Correlation\n",
    "- Correlation coefcient between -1 and 1\n",
    "- Sign —> direction\n",
    "- Magnitude —> strength\n",
    "\n",
    "> ### Non-linear correlation"
   ]
  },
  {
   "cell_type": "code",
   "execution_count": 30,
   "metadata": {},
   "outputs": [
    {
     "data": {
      "text/html": [
       "<table>\n",
       "<thead><tr><th scope=col>place</th><th scope=col>time</th><th scope=col>net_time</th><th scope=col>pace</th><th scope=col>age</th><th scope=col>gender</th><th scope=col>first</th><th scope=col>last</th><th scope=col>city</th><th scope=col>state</th><th scope=col>country</th><th scope=col>div</th><th scope=col>div_place</th><th scope=col>div_tot</th></tr></thead>\n",
       "<tbody>\n",
       "\t<tr><td>1              </td><td>53.533         </td><td>53.533         </td><td>5.367          </td><td>21             </td><td>F              </td><td>Lineth         </td><td>Chepkurui      </td><td>Kenya          </td><td>NR             </td><td>KEN            </td><td>2              </td><td>1              </td><td> 953           </td></tr>\n",
       "\t<tr><td>2              </td><td>53.917         </td><td>53.917         </td><td>5.400          </td><td>21             </td><td>F              </td><td>Belianesh Zemed</td><td>Gebre          </td><td>Ethiopia       </td><td>NR             </td><td>ETH            </td><td>2              </td><td>2              </td><td> 953           </td></tr>\n",
       "\t<tr><td>3              </td><td>53.967         </td><td>53.967         </td><td>5.400          </td><td>22             </td><td>F              </td><td>Teyba          </td><td>Naser          </td><td>Ethiopia       </td><td>NR             </td><td>ETH            </td><td>2              </td><td>3              </td><td> 953           </td></tr>\n",
       "\t<tr><td>4              </td><td>54.433         </td><td>54.433         </td><td>5.450          </td><td>19             </td><td>F              </td><td>Abebu          </td><td>Gelan          </td><td>Ethiopia       </td><td>NR             </td><td>ETH            </td><td>1              </td><td>1              </td><td>  71           </td></tr>\n",
       "\t<tr><td>5              </td><td>54.450         </td><td>54.450         </td><td>5.450          </td><td>36             </td><td>F              </td><td>Catherine      </td><td>Ndereba        </td><td>Kenya          </td><td>NR             </td><td>KEN            </td><td>5              </td><td>1              </td><td>1130           </td></tr>\n",
       "\t<tr><td>6              </td><td>54.533         </td><td>54.533         </td><td>5.467          </td><td>28             </td><td>F              </td><td>Olga           </td><td>Romanova       </td><td>Russia         </td><td>NR             </td><td>RUS            </td><td>3              </td><td>1              </td><td>2706           </td></tr>\n",
       "</tbody>\n",
       "</table>\n"
      ],
      "text/latex": [
       "\\begin{tabular}{r|llllllllllllll}\n",
       " place & time & net\\_time & pace & age & gender & first & last & city & state & country & div & div\\_place & div\\_tot\\\\\n",
       "\\hline\n",
       "\t 1               & 53.533          & 53.533          & 5.367           & 21              & F               & Lineth          & Chepkurui       & Kenya           & NR              & KEN             & 2               & 1               &  953           \\\\\n",
       "\t 2               & 53.917          & 53.917          & 5.400           & 21              & F               & Belianesh Zemed & Gebre           & Ethiopia        & NR              & ETH             & 2               & 2               &  953           \\\\\n",
       "\t 3               & 53.967          & 53.967          & 5.400           & 22              & F               & Teyba           & Naser           & Ethiopia        & NR              & ETH             & 2               & 3               &  953           \\\\\n",
       "\t 4               & 54.433          & 54.433          & 5.450           & 19              & F               & Abebu           & Gelan           & Ethiopia        & NR              & ETH             & 1               & 1               &   71           \\\\\n",
       "\t 5               & 54.450          & 54.450          & 5.450           & 36              & F               & Catherine       & Ndereba         & Kenya           & NR              & KEN             & 5               & 1               & 1130           \\\\\n",
       "\t 6               & 54.533          & 54.533          & 5.467           & 28              & F               & Olga            & Romanova        & Russia          & NR              & RUS             & 3               & 1               & 2706           \\\\\n",
       "\\end{tabular}\n"
      ],
      "text/markdown": [
       "\n",
       "| place | time | net_time | pace | age | gender | first | last | city | state | country | div | div_place | div_tot |\n",
       "|---|---|---|---|---|---|---|---|---|---|---|---|---|---|\n",
       "| 1               | 53.533          | 53.533          | 5.367           | 21              | F               | Lineth          | Chepkurui       | Kenya           | NR              | KEN             | 2               | 1               |  953            |\n",
       "| 2               | 53.917          | 53.917          | 5.400           | 21              | F               | Belianesh Zemed | Gebre           | Ethiopia        | NR              | ETH             | 2               | 2               |  953            |\n",
       "| 3               | 53.967          | 53.967          | 5.400           | 22              | F               | Teyba           | Naser           | Ethiopia        | NR              | ETH             | 2               | 3               |  953            |\n",
       "| 4               | 54.433          | 54.433          | 5.450           | 19              | F               | Abebu           | Gelan           | Ethiopia        | NR              | ETH             | 1               | 1               |   71            |\n",
       "| 5               | 54.450          | 54.450          | 5.450           | 36              | F               | Catherine       | Ndereba         | Kenya           | NR              | KEN             | 5               | 1               | 1130            |\n",
       "| 6               | 54.533          | 54.533          | 5.467           | 28              | F               | Olga            | Romanova        | Russia          | NR              | RUS             | 3               | 1               | 2706            |\n",
       "\n"
      ],
      "text/plain": [
       "  place time   net_time pace  age gender first           last      city    \n",
       "1 1     53.533 53.533   5.367 21  F      Lineth          Chepkurui Kenya   \n",
       "2 2     53.917 53.917   5.400 21  F      Belianesh Zemed Gebre     Ethiopia\n",
       "3 3     53.967 53.967   5.400 22  F      Teyba           Naser     Ethiopia\n",
       "4 4     54.433 54.433   5.450 19  F      Abebu           Gelan     Ethiopia\n",
       "5 5     54.450 54.450   5.450 36  F      Catherine       Ndereba   Kenya   \n",
       "6 6     54.533 54.533   5.467 28  F      Olga            Romanova  Russia  \n",
       "  state country div div_place div_tot\n",
       "1 NR    KEN     2   1          953   \n",
       "2 NR    ETH     2   2          953   \n",
       "3 NR    ETH     2   3          953   \n",
       "4 NR    ETH     1   1           71   \n",
       "5 NR    KEN     5   1         1130   \n",
       "6 NR    RUS     3   1         2706   "
      ]
     },
     "metadata": {},
     "output_type": "display_data"
    }
   ],
   "source": [
    "head(run09)"
   ]
  },
  {
   "cell_type": "code",
   "execution_count": 31,
   "metadata": {},
   "outputs": [
    {
     "name": "stderr",
     "output_type": "stream",
     "text": [
      "`geom_smooth()` using method = 'loess' and formula 'y ~ x'\n"
     ]
    },
    {
     "data": {
      "image/png": "[encoded data removed]",
      "text/plain": [
       "plot without title"
      ]
     },
     "metadata": {},
     "output_type": "display_data"
    }
   ],
   "source": [
    "run09 %>%\n",
    "    filter(div_place <= 10) %>%\n",
    "        ggplot(aes(x=age, y=pace, color=gender)) +\n",
    "        geom_point() +\n",
    "        geom_smooth(se=F)"
   ]
  },
  {
   "cell_type": "markdown",
   "metadata": {},
   "source": [
    "> ### Pearson product-moment correlation\n",
    "$$\n",
    "\\begin{split}\n",
    "r(x,y)&=\\frac{Cov(x,y)}{\\sqrt{SXX.SYY}}\\\\\n",
    "&=\\frac{\\sum_{i=1}^{n}(x_i - \\bar{x})(y_i - \\bar{y})}{\\sqrt{\\sum_{i=1}^{n}(x_i - \\bar{x})^2.(y_i - \\bar{y})^2}}\n",
    "\\end{split}\n",
    "$$\n",
    "Correlation coefficients cannot be greater than 1."
   ]
  },
  {
   "cell_type": "markdown",
   "metadata": {},
   "source": [
    "### Computing correlation\n",
    "\n",
    "The `cor(x, y)` function will compute the Pearson product-moment correlation between variables, `x` and `y`. Since this quantity is symmetric with respect to `x` and `y`, it doesn't matter in which order you put the variables.\n",
    "\n",
    "At the same time, the `cor()` function is very conservative when it encounters missing data (e.g. NAs). The `use` argument allows you to override the default behavior of returning NA whenever any of the values encountered is NA. Setting the use argument to `\"pairwise.complete.obs\"` allows `cor()` to compute the correlation coefficient for those observations where the values of `x` and `y` are both not missing."
   ]
  },
  {
   "cell_type": "code",
   "execution_count": 32,
   "metadata": {},
   "outputs": [
    {
     "data": {
      "text/html": [
       "<table>\n",
       "<thead><tr><th scope=col>N</th><th scope=col>r</th></tr></thead>\n",
       "<tbody>\n",
       "\t<tr><td>1000      </td><td>0.05506589</td></tr>\n",
       "</tbody>\n",
       "</table>\n"
      ],
      "text/latex": [
       "\\begin{tabular}{r|ll}\n",
       " N & r\\\\\n",
       "\\hline\n",
       "\t 1000       & 0.05506589\\\\\n",
       "\\end{tabular}\n"
      ],
      "text/markdown": [
       "\n",
       "| N | r |\n",
       "|---|---|\n",
       "| 1000       | 0.05506589 |\n",
       "\n"
      ],
      "text/plain": [
       "  N    r         \n",
       "1 1000 0.05506589"
      ]
     },
     "metadata": {},
     "output_type": "display_data"
    }
   ],
   "source": [
    "# Compute correlation\n",
    "ncbirths %>%\n",
    "  summarize(N = n(), r = cor(mage, weight))"
   ]
  },
  {
   "cell_type": "code",
   "execution_count": 33,
   "metadata": {},
   "outputs": [
    {
     "data": {
      "text/html": [
       "<table>\n",
       "<thead><tr><th scope=col>N</th><th scope=col>r</th></tr></thead>\n",
       "<tbody>\n",
       "\t<tr><td>1000     </td><td>0.6701013</td></tr>\n",
       "</tbody>\n",
       "</table>\n"
      ],
      "text/latex": [
       "\\begin{tabular}{r|ll}\n",
       " N & r\\\\\n",
       "\\hline\n",
       "\t 1000      & 0.6701013\\\\\n",
       "\\end{tabular}\n"
      ],
      "text/markdown": [
       "\n",
       "| N | r |\n",
       "|---|---|\n",
       "| 1000      | 0.6701013 |\n",
       "\n"
      ],
      "text/plain": [
       "  N    r        \n",
       "1 1000 0.6701013"
      ]
     },
     "metadata": {},
     "output_type": "display_data"
    }
   ],
   "source": [
    "# Compute correlation for all non-missing pairs\n",
    "ncbirths %>%\n",
    "  summarize(N = n(), r = cor(weeks, weight, use = \"pairwise.complete.obs\"))"
   ]
  },
  {
   "cell_type": "markdown",
   "metadata": {},
   "source": [
    "## The Anscombe dataset\n",
    "\n",
    "In 1973, Francis Anscombe famously created four datasets with remarkably similar numerical properties, but obviously different graphic relationships. The `anscombe` dataset contains the `x` and `y` coordinates for these four datasets, along with a grouping variable, set, that distinguishes the quartet."
   ]
  },
  {
   "cell_type": "code",
   "execution_count": 42,
   "metadata": {},
   "outputs": [
    {
     "data": {
      "text/html": [
       "<table>\n",
       "<thead><tr><th scope=col>x1</th><th scope=col>x2</th><th scope=col>x3</th><th scope=col>x4</th><th scope=col>y1</th><th scope=col>y2</th><th scope=col>y3</th><th scope=col>y4</th></tr></thead>\n",
       "<tbody>\n",
       "\t<tr><td>10   </td><td>10   </td><td>10   </td><td>8    </td><td>8.04 </td><td>9.14 </td><td> 7.46</td><td>6.58 </td></tr>\n",
       "\t<tr><td> 8   </td><td> 8   </td><td> 8   </td><td>8    </td><td>6.95 </td><td>8.14 </td><td> 6.77</td><td>5.76 </td></tr>\n",
       "\t<tr><td>13   </td><td>13   </td><td>13   </td><td>8    </td><td>7.58 </td><td>8.74 </td><td>12.74</td><td>7.71 </td></tr>\n",
       "\t<tr><td> 9   </td><td> 9   </td><td> 9   </td><td>8    </td><td>8.81 </td><td>8.77 </td><td> 7.11</td><td>8.84 </td></tr>\n",
       "\t<tr><td>11   </td><td>11   </td><td>11   </td><td>8    </td><td>8.33 </td><td>9.26 </td><td> 7.81</td><td>8.47 </td></tr>\n",
       "\t<tr><td>14   </td><td>14   </td><td>14   </td><td>8    </td><td>9.96 </td><td>8.10 </td><td> 8.84</td><td>7.04 </td></tr>\n",
       "</tbody>\n",
       "</table>\n"
      ],
      "text/latex": [
       "\\begin{tabular}{r|llllllll}\n",
       " x1 & x2 & x3 & x4 & y1 & y2 & y3 & y4\\\\\n",
       "\\hline\n",
       "\t 10    & 10    & 10    & 8     & 8.04  & 9.14  &  7.46 & 6.58 \\\\\n",
       "\t  8    &  8    &  8    & 8     & 6.95  & 8.14  &  6.77 & 5.76 \\\\\n",
       "\t 13    & 13    & 13    & 8     & 7.58  & 8.74  & 12.74 & 7.71 \\\\\n",
       "\t  9    &  9    &  9    & 8     & 8.81  & 8.77  &  7.11 & 8.84 \\\\\n",
       "\t 11    & 11    & 11    & 8     & 8.33  & 9.26  &  7.81 & 8.47 \\\\\n",
       "\t 14    & 14    & 14    & 8     & 9.96  & 8.10  &  8.84 & 7.04 \\\\\n",
       "\\end{tabular}\n"
      ],
      "text/markdown": [
       "\n",
       "| x1 | x2 | x3 | x4 | y1 | y2 | y3 | y4 |\n",
       "|---|---|---|---|---|---|---|---|\n",
       "| 10    | 10    | 10    | 8     | 8.04  | 9.14  |  7.46 | 6.58  |\n",
       "|  8    |  8    |  8    | 8     | 6.95  | 8.14  |  6.77 | 5.76  |\n",
       "| 13    | 13    | 13    | 8     | 7.58  | 8.74  | 12.74 | 7.71  |\n",
       "|  9    |  9    |  9    | 8     | 8.81  | 8.77  |  7.11 | 8.84  |\n",
       "| 11    | 11    | 11    | 8     | 8.33  | 9.26  |  7.81 | 8.47  |\n",
       "| 14    | 14    | 14    | 8     | 9.96  | 8.10  |  8.84 | 7.04  |\n",
       "\n"
      ],
      "text/plain": [
       "  x1 x2 x3 x4 y1   y2   y3    y4  \n",
       "1 10 10 10 8  8.04 9.14  7.46 6.58\n",
       "2  8  8  8 8  6.95 8.14  6.77 5.76\n",
       "3 13 13 13 8  7.58 8.74 12.74 7.71\n",
       "4  9  9  9 8  8.81 8.77  7.11 8.84\n",
       "5 11 11 11 8  8.33 9.26  7.81 8.47\n",
       "6 14 14 14 8  9.96 8.10  8.84 7.04"
      ]
     },
     "metadata": {},
     "output_type": "display_data"
    }
   ],
   "source": [
    "head(anscombe)"
   ]
  },
  {
   "cell_type": "code",
   "execution_count": 43,
   "metadata": {},
   "outputs": [
    {
     "data": {
      "text/html": [
       "<table>\n",
       "<thead><tr><th scope=col>x_name</th><th scope=col>x</th><th scope=col>y_name</th><th scope=col>y</th></tr></thead>\n",
       "<tbody>\n",
       "\t<tr><td>x1   </td><td>10   </td><td>y1   </td><td> 8.04</td></tr>\n",
       "\t<tr><td>x1   </td><td> 8   </td><td>y1   </td><td> 6.95</td></tr>\n",
       "\t<tr><td>x1   </td><td>13   </td><td>y1   </td><td> 7.58</td></tr>\n",
       "\t<tr><td>x1   </td><td> 9   </td><td>y1   </td><td> 8.81</td></tr>\n",
       "\t<tr><td>x1   </td><td>11   </td><td>y1   </td><td> 8.33</td></tr>\n",
       "\t<tr><td>x1   </td><td>14   </td><td>y1   </td><td> 9.96</td></tr>\n",
       "\t<tr><td>x1   </td><td> 6   </td><td>y1   </td><td> 7.24</td></tr>\n",
       "\t<tr><td>x1   </td><td> 4   </td><td>y1   </td><td> 4.26</td></tr>\n",
       "\t<tr><td>x1   </td><td>12   </td><td>y1   </td><td>10.84</td></tr>\n",
       "\t<tr><td>x1   </td><td> 7   </td><td>y1   </td><td> 4.82</td></tr>\n",
       "</tbody>\n",
       "</table>\n"
      ],
      "text/latex": [
       "\\begin{tabular}{r|llll}\n",
       " x\\_name & x & y\\_name & y\\\\\n",
       "\\hline\n",
       "\t x1    & 10    & y1    &  8.04\\\\\n",
       "\t x1    &  8    & y1    &  6.95\\\\\n",
       "\t x1    & 13    & y1    &  7.58\\\\\n",
       "\t x1    &  9    & y1    &  8.81\\\\\n",
       "\t x1    & 11    & y1    &  8.33\\\\\n",
       "\t x1    & 14    & y1    &  9.96\\\\\n",
       "\t x1    &  6    & y1    &  7.24\\\\\n",
       "\t x1    &  4    & y1    &  4.26\\\\\n",
       "\t x1    & 12    & y1    & 10.84\\\\\n",
       "\t x1    &  7    & y1    &  4.82\\\\\n",
       "\\end{tabular}\n"
      ],
      "text/markdown": [
       "\n",
       "| x_name | x | y_name | y |\n",
       "|---|---|---|---|\n",
       "| x1    | 10    | y1    |  8.04 |\n",
       "| x1    |  8    | y1    |  6.95 |\n",
       "| x1    | 13    | y1    |  7.58 |\n",
       "| x1    |  9    | y1    |  8.81 |\n",
       "| x1    | 11    | y1    |  8.33 |\n",
       "| x1    | 14    | y1    |  9.96 |\n",
       "| x1    |  6    | y1    |  7.24 |\n",
       "| x1    |  4    | y1    |  4.26 |\n",
       "| x1    | 12    | y1    | 10.84 |\n",
       "| x1    |  7    | y1    |  4.82 |\n",
       "\n"
      ],
      "text/plain": [
       "   x_name x  y_name y    \n",
       "1  x1     10 y1      8.04\n",
       "2  x1      8 y1      6.95\n",
       "3  x1     13 y1      7.58\n",
       "4  x1      9 y1      8.81\n",
       "5  x1     11 y1      8.33\n",
       "6  x1     14 y1      9.96\n",
       "7  x1      6 y1      7.24\n",
       "8  x1      4 y1      4.26\n",
       "9  x1     12 y1     10.84\n",
       "10 x1      7 y1      4.82"
      ]
     },
     "metadata": {},
     "output_type": "display_data"
    }
   ],
   "source": [
    "head(anscombe2 <- anscombe %>%\n",
    "    gather(x_name, x, x1:x4) %>%\n",
    "        gather(y_name, y, y1:y4), 10)"
   ]
  },
  {
   "cell_type": "code",
   "execution_count": 46,
   "metadata": {},
   "outputs": [
    {
     "data": {
      "image/png": "[encoded data removed]",
      "text/plain": [
       "plot without title"
      ]
     },
     "metadata": {},
     "output_type": "display_data"
    }
   ],
   "source": [
    "anscombe %>%\n",
    "    ggplot(aes(x=x1,y=y1)) +\n",
    "    geom_point()"
   ]
  },
  {
   "cell_type": "code",
   "execution_count": 47,
   "metadata": {},
   "outputs": [
    {
     "data": {
      "image/png": "[encoded data removed]",
      "text/plain": [
       "plot without title"
      ]
     },
     "metadata": {},
     "output_type": "display_data"
    }
   ],
   "source": [
    "anscombe %>%\n",
    "    ggplot(aes(x=x2,y=y2)) +\n",
    "    geom_point()"
   ]
  },
  {
   "cell_type": "code",
   "execution_count": 48,
   "metadata": {},
   "outputs": [
    {
     "data": {
      "image/png": "[encoded data removed]",
      "text/plain": [
       "plot without title"
      ]
     },
     "metadata": {},
     "output_type": "display_data"
    }
   ],
   "source": [
    "anscombe %>%\n",
    "    ggplot(aes(x=x3,y=y3)) +\n",
    "    geom_point()"
   ]
  },
  {
   "cell_type": "code",
   "execution_count": 53,
   "metadata": {},
   "outputs": [
    {
     "data": {
      "image/png": "[encoded data removed]",
      "text/plain": [
       "plot without title"
      ]
     },
     "metadata": {},
     "output_type": "display_data"
    }
   ],
   "source": [
    "anscombe %>%\n",
    "    ggplot(aes(x=x4,y=y4)) +\n",
    "    geom_point()"
   ]
  },
  {
   "cell_type": "code",
   "execution_count": 54,
   "metadata": {},
   "outputs": [
    {
     "data": {
      "text/html": [
       "<ol class=list-inline>\n",
       "\t<li>'x1'</li>\n",
       "\t<li>'x2'</li>\n",
       "\t<li>'x3'</li>\n",
       "\t<li>'x4'</li>\n",
       "</ol>\n"
      ],
      "text/latex": [
       "\\begin{enumerate*}\n",
       "\\item 'x1'\n",
       "\\item 'x2'\n",
       "\\item 'x3'\n",
       "\\item 'x4'\n",
       "\\end{enumerate*}\n"
      ],
      "text/markdown": [
       "1. 'x1'\n",
       "2. 'x2'\n",
       "3. 'x3'\n",
       "4. 'x4'\n",
       "\n",
       "\n"
      ],
      "text/plain": [
       "[1] \"x1\" \"x2\" \"x3\" \"x4\""
      ]
     },
     "metadata": {},
     "output_type": "display_data"
    }
   ],
   "source": [
    "unique(anscombe2$x_name)"
   ]
  },
  {
   "cell_type": "code",
   "execution_count": 55,
   "metadata": {},
   "outputs": [
    {
     "data": {
      "text/plain": [
       "    \n",
       "     y1 y2 y3 y4\n",
       "  x1 11 11 11 11\n",
       "  x2 11 11 11 11\n",
       "  x3 11 11 11 11\n",
       "  x4 11 11 11 11"
      ]
     },
     "metadata": {},
     "output_type": "display_data"
    }
   ],
   "source": [
    "table(anscombe2$x_name, anscombe2$y_name)"
   ]
  },
  {
   "cell_type": "code",
   "execution_count": 56,
   "metadata": {},
   "outputs": [
    {
     "name": "stderr",
     "output_type": "stream",
     "text": [
      "`summarise()` ungrouping output (override with `.groups` argument)\n"
     ]
    },
    {
     "data": {
      "text/html": [
       "<table>\n",
       "<thead><tr><th scope=col>x_name</th><th scope=col>N</th><th scope=col>mean_of_x</th><th scope=col>std_dev_of_x</th><th scope=col>mean_of_y</th><th scope=col>std_dev_of_y</th><th scope=col>correlation_between_x_and_y</th></tr></thead>\n",
       "<tbody>\n",
       "\t<tr><td>x1        </td><td>44        </td><td>9         </td><td>3.198837  </td><td>7.500682  </td><td>1.958925  </td><td> 0.5337908</td></tr>\n",
       "\t<tr><td>x2        </td><td>44        </td><td>9         </td><td>3.198837  </td><td>7.500682  </td><td>1.958925  </td><td> 0.5337908</td></tr>\n",
       "\t<tr><td>x3        </td><td>44        </td><td>9         </td><td>3.198837  </td><td>7.500682  </td><td>1.958925  </td><td> 0.5337908</td></tr>\n",
       "\t<tr><td>x4        </td><td>44        </td><td>9         </td><td>3.198837  </td><td>7.500682  </td><td>1.958925  </td><td>-0.1940248</td></tr>\n",
       "</tbody>\n",
       "</table>\n"
      ],
      "text/latex": [
       "\\begin{tabular}{r|lllllll}\n",
       " x\\_name & N & mean\\_of\\_x & std\\_dev\\_of\\_x & mean\\_of\\_y & std\\_dev\\_of\\_y & correlation\\_between\\_x\\_and\\_y\\\\\n",
       "\\hline\n",
       "\t x1         & 44         & 9          & 3.198837   & 7.500682   & 1.958925   &  0.5337908\\\\\n",
       "\t x2         & 44         & 9          & 3.198837   & 7.500682   & 1.958925   &  0.5337908\\\\\n",
       "\t x3         & 44         & 9          & 3.198837   & 7.500682   & 1.958925   &  0.5337908\\\\\n",
       "\t x4         & 44         & 9          & 3.198837   & 7.500682   & 1.958925   & -0.1940248\\\\\n",
       "\\end{tabular}\n"
      ],
      "text/markdown": [
       "\n",
       "| x_name | N | mean_of_x | std_dev_of_x | mean_of_y | std_dev_of_y | correlation_between_x_and_y |\n",
       "|---|---|---|---|---|---|---|\n",
       "| x1         | 44         | 9          | 3.198837   | 7.500682   | 1.958925   |  0.5337908 |\n",
       "| x2         | 44         | 9          | 3.198837   | 7.500682   | 1.958925   |  0.5337908 |\n",
       "| x3         | 44         | 9          | 3.198837   | 7.500682   | 1.958925   |  0.5337908 |\n",
       "| x4         | 44         | 9          | 3.198837   | 7.500682   | 1.958925   | -0.1940248 |\n",
       "\n"
      ],
      "text/plain": [
       "  x_name N  mean_of_x std_dev_of_x mean_of_y std_dev_of_y\n",
       "1 x1     44 9         3.198837     7.500682  1.958925    \n",
       "2 x2     44 9         3.198837     7.500682  1.958925    \n",
       "3 x3     44 9         3.198837     7.500682  1.958925    \n",
       "4 x4     44 9         3.198837     7.500682  1.958925    \n",
       "  correlation_between_x_and_y\n",
       "1  0.5337908                 \n",
       "2  0.5337908                 \n",
       "3  0.5337908                 \n",
       "4 -0.1940248                 "
      ]
     },
     "metadata": {},
     "output_type": "display_data"
    }
   ],
   "source": [
    "# Compute properties of Anscombe\n",
    "anscombe2 %>%\n",
    "  group_by(x_name) %>%\n",
    "  summarize(\n",
    "    N = n(), \n",
    "    mean_of_x = mean(x), \n",
    "    std_dev_of_x = sd(x), \n",
    "    mean_of_y = mean(y), \n",
    "    std_dev_of_y = sd(y), \n",
    "    correlation_between_x_and_y = cor(x,y)\n",
    "  )"
   ]
  },
  {
   "cell_type": "code",
   "execution_count": 59,
   "metadata": {},
   "outputs": [
    {
     "data": {
      "image/png": "[encoded data removed]",
      "text/plain": [
       "plot without title"
      ]
     },
     "metadata": {},
     "output_type": "display_data"
    }
   ],
   "source": [
    "anscombe2 <- anscombe2 %>%\n",
    "    filter((x_name==\"x1\"&y_name==\"y1\") | (x_name==\"x2\"&y_name==\"y2\") | (x_name==\"x3\"&y_name==\"y3\") | (x_name==\"x4\"&y_name==\"y4\"))\n",
    "anscombe2 %>%\n",
    "    ggplot(aes(x=x, y=y)) +\n",
    "    geom_point() +\n",
    "    facet_wrap(~x_name)"
   ]
  },
  {
   "cell_type": "code",
   "execution_count": 60,
   "metadata": {},
   "outputs": [
    {
     "name": "stderr",
     "output_type": "stream",
     "text": [
      "`summarise()` ungrouping output (override with `.groups` argument)\n"
     ]
    },
    {
     "data": {
      "text/html": [
       "<table>\n",
       "<thead><tr><th scope=col>x_name</th><th scope=col>N</th><th scope=col>mean_of_x</th><th scope=col>std_dev_of_x</th><th scope=col>mean_of_y</th><th scope=col>std_dev_of_y</th><th scope=col>correlation_between_x_and_y</th></tr></thead>\n",
       "<tbody>\n",
       "\t<tr><td>x1       </td><td>11       </td><td>9        </td><td>3.316625 </td><td>7.500909 </td><td>2.031568 </td><td>0.8164205</td></tr>\n",
       "\t<tr><td>x2       </td><td>11       </td><td>9        </td><td>3.316625 </td><td>7.500909 </td><td>2.031657 </td><td>0.8162365</td></tr>\n",
       "\t<tr><td>x3       </td><td>11       </td><td>9        </td><td>3.316625 </td><td>7.500000 </td><td>2.030424 </td><td>0.8162867</td></tr>\n",
       "\t<tr><td>x4       </td><td>11       </td><td>9        </td><td>3.316625 </td><td>7.500909 </td><td>2.030579 </td><td>0.8165214</td></tr>\n",
       "</tbody>\n",
       "</table>\n"
      ],
      "text/latex": [
       "\\begin{tabular}{r|lllllll}\n",
       " x\\_name & N & mean\\_of\\_x & std\\_dev\\_of\\_x & mean\\_of\\_y & std\\_dev\\_of\\_y & correlation\\_between\\_x\\_and\\_y\\\\\n",
       "\\hline\n",
       "\t x1        & 11        & 9         & 3.316625  & 7.500909  & 2.031568  & 0.8164205\\\\\n",
       "\t x2        & 11        & 9         & 3.316625  & 7.500909  & 2.031657  & 0.8162365\\\\\n",
       "\t x3        & 11        & 9         & 3.316625  & 7.500000  & 2.030424  & 0.8162867\\\\\n",
       "\t x4        & 11        & 9         & 3.316625  & 7.500909  & 2.030579  & 0.8165214\\\\\n",
       "\\end{tabular}\n"
      ],
      "text/markdown": [
       "\n",
       "| x_name | N | mean_of_x | std_dev_of_x | mean_of_y | std_dev_of_y | correlation_between_x_and_y |\n",
       "|---|---|---|---|---|---|---|\n",
       "| x1        | 11        | 9         | 3.316625  | 7.500909  | 2.031568  | 0.8164205 |\n",
       "| x2        | 11        | 9         | 3.316625  | 7.500909  | 2.031657  | 0.8162365 |\n",
       "| x3        | 11        | 9         | 3.316625  | 7.500000  | 2.030424  | 0.8162867 |\n",
       "| x4        | 11        | 9         | 3.316625  | 7.500909  | 2.030579  | 0.8165214 |\n",
       "\n"
      ],
      "text/plain": [
       "  x_name N  mean_of_x std_dev_of_x mean_of_y std_dev_of_y\n",
       "1 x1     11 9         3.316625     7.500909  2.031568    \n",
       "2 x2     11 9         3.316625     7.500909  2.031657    \n",
       "3 x3     11 9         3.316625     7.500000  2.030424    \n",
       "4 x4     11 9         3.316625     7.500909  2.030579    \n",
       "  correlation_between_x_and_y\n",
       "1 0.8164205                  \n",
       "2 0.8162365                  \n",
       "3 0.8162867                  \n",
       "4 0.8165214                  "
      ]
     },
     "metadata": {},
     "output_type": "display_data"
    }
   ],
   "source": [
    "# Compute properties of Anscombe\n",
    "anscombe2 %>%\n",
    "  group_by(x_name) %>%\n",
    "  summarize(\n",
    "    N = n(), \n",
    "    mean_of_x = mean(x), \n",
    "    std_dev_of_x = sd(x), \n",
    "    mean_of_y = mean(y), \n",
    "    std_dev_of_y = sd(y), \n",
    "    correlation_between_x_and_y = cor(x,y)\n",
    "  )"
   ]
  },
  {
   "cell_type": "markdown",
   "metadata": {},
   "source": [
    "all of the measures are identical (ignoring rounding error) across the four different sets."
   ]
  },
  {
   "cell_type": "markdown",
   "metadata": {},
   "source": [
    "### Perception of correlation (2)\n",
    "\n",
    "Estimating the value of the correlation coefficient between two quantities from their scatterplot can be tricky. [Statisticians have shown that](https://statistics.stanford.edu/sites/default/files/EFS%20NSF%20206.pdf) people's perception of the strength of these relationships can be influenced by design choices like the x and y scales."
   ]
  },
  {
   "cell_type": "code",
   "execution_count": 61,
   "metadata": {},
   "outputs": [
    {
     "data": {
      "image/png": "[encoded data removed]",
      "text/plain": [
       "plot without title"
      ]
     },
     "metadata": {},
     "output_type": "display_data"
    }
   ],
   "source": [
    "# Run this and look at the plot\n",
    "ggplot(data = mlbbat10, aes(x = obp, y = slg)) +\n",
    "  geom_point()\n",
    "\n"
   ]
  },
  {
   "cell_type": "code",
   "execution_count": 62,
   "metadata": {},
   "outputs": [
    {
     "data": {
      "text/html": [
       "<table>\n",
       "<thead><tr><th scope=col>N</th><th scope=col>r</th></tr></thead>\n",
       "<tbody>\n",
       "\t<tr><td>1199     </td><td>0.8145628</td></tr>\n",
       "</tbody>\n",
       "</table>\n"
      ],
      "text/latex": [
       "\\begin{tabular}{r|ll}\n",
       " N & r\\\\\n",
       "\\hline\n",
       "\t 1199      & 0.8145628\\\\\n",
       "\\end{tabular}\n"
      ],
      "text/markdown": [
       "\n",
       "| N | r |\n",
       "|---|---|\n",
       "| 1199      | 0.8145628 |\n",
       "\n"
      ],
      "text/plain": [
       "  N    r        \n",
       "1 1199 0.8145628"
      ]
     },
     "metadata": {},
     "output_type": "display_data"
    }
   ],
   "source": [
    "# Correlation for all baseball players\n",
    "mlbbat10 %>%\n",
    "  summarize(N = n(), r = cor(obp, slg))"
   ]
  },
  {
   "cell_type": "code",
   "execution_count": 64,
   "metadata": {},
   "outputs": [
    {
     "data": {
      "image/png": "[encoded data removed]",
      "text/plain": [
       "plot without title"
      ]
     },
     "metadata": {},
     "output_type": "display_data"
    }
   ],
   "source": [
    "# Run this and look at the plot\n",
    "mlbbat10 %>% \n",
    "    filter( at_bat> 200) %>%\n",
    "    ggplot(aes(x = obp, y = slg)) + \n",
    "    geom_point()"
   ]
  },
  {
   "cell_type": "code",
   "execution_count": 65,
   "metadata": {},
   "outputs": [
    {
     "data": {
      "text/html": [
       "<table>\n",
       "<thead><tr><th scope=col>N</th><th scope=col>r</th></tr></thead>\n",
       "<tbody>\n",
       "\t<tr><td>329      </td><td>0.6855364</td></tr>\n",
       "</tbody>\n",
       "</table>\n"
      ],
      "text/latex": [
       "\\begin{tabular}{r|ll}\n",
       " N & r\\\\\n",
       "\\hline\n",
       "\t 329       & 0.6855364\\\\\n",
       "\\end{tabular}\n"
      ],
      "text/markdown": [
       "\n",
       "| N | r |\n",
       "|---|---|\n",
       "| 329       | 0.6855364 |\n",
       "\n"
      ],
      "text/plain": [
       "  N   r        \n",
       "1 329 0.6855364"
      ]
     },
     "metadata": {},
     "output_type": "display_data"
    }
   ],
   "source": [
    "# Correlation for all players with at least 200 ABs\n",
    "mlbbat10 %>%\n",
    "  filter(at_bat>=200) %>%\n",
    "  summarize(N = n(), r = cor(obp, slg))"
   ]
  },
  {
   "cell_type": "code",
   "execution_count": 66,
   "metadata": {},
   "outputs": [
    {
     "data": {
      "image/png": "[encoded data removed]",
      "text/plain": [
       "plot without title"
      ]
     },
     "metadata": {},
     "output_type": "display_data"
    }
   ],
   "source": [
    "# Run this and look at the plot\n",
    "ggplot(data = bdims, aes(x = hgt, y = wgt, color = factor(sex))) +\n",
    "  geom_point() \n",
    "\n"
   ]
  },
  {
   "cell_type": "code",
   "execution_count": 67,
   "metadata": {},
   "outputs": [
    {
     "name": "stderr",
     "output_type": "stream",
     "text": [
      "`summarise()` ungrouping output (override with `.groups` argument)\n"
     ]
    },
    {
     "data": {
      "text/html": [
       "<table>\n",
       "<thead><tr><th scope=col>sex</th><th scope=col>N</th><th scope=col>r</th></tr></thead>\n",
       "<tbody>\n",
       "\t<tr><td>0        </td><td>260      </td><td>0.4310593</td></tr>\n",
       "\t<tr><td>1        </td><td>247      </td><td>0.5347418</td></tr>\n",
       "</tbody>\n",
       "</table>\n"
      ],
      "text/latex": [
       "\\begin{tabular}{r|lll}\n",
       " sex & N & r\\\\\n",
       "\\hline\n",
       "\t 0         & 260       & 0.4310593\\\\\n",
       "\t 1         & 247       & 0.5347418\\\\\n",
       "\\end{tabular}\n"
      ],
      "text/markdown": [
       "\n",
       "| sex | N | r |\n",
       "|---|---|---|\n",
       "| 0         | 260       | 0.4310593 |\n",
       "| 1         | 247       | 0.5347418 |\n",
       "\n"
      ],
      "text/plain": [
       "  sex N   r        \n",
       "1 0   260 0.4310593\n",
       "2 1   247 0.5347418"
      ]
     },
     "metadata": {},
     "output_type": "display_data"
    }
   ],
   "source": [
    "# Correlation of body dimensions\n",
    "bdims %>%\n",
    "  group_by(sex) %>%\n",
    "  summarize(N = n(), r = cor(hgt, wgt))"
   ]
  },
  {
   "cell_type": "code",
   "execution_count": 68,
   "metadata": {},
   "outputs": [
    {
     "data": {
      "image/png": "[encoded data removed]",
      "text/plain": [
       "plot without title"
      ]
     },
     "metadata": {},
     "output_type": "display_data"
    }
   ],
   "source": [
    "# Run this and look at the plot\n",
    "ggplot(data = mammals, aes(x = body_wt, y = brain_wt)) +\n",
    "  geom_point() + scale_x_log10() + scale_y_log10()\n",
    "\n"
   ]
  },
  {
   "cell_type": "code",
   "execution_count": 69,
   "metadata": {},
   "outputs": [
    {
     "data": {
      "text/html": [
       "<table>\n",
       "<thead><tr><th scope=col>N</th><th scope=col>r</th><th scope=col>r_log</th></tr></thead>\n",
       "<tbody>\n",
       "\t<tr><td>62       </td><td>0.9341638</td><td>0.9595748</td></tr>\n",
       "</tbody>\n",
       "</table>\n"
      ],
      "text/latex": [
       "\\begin{tabular}{r|lll}\n",
       " N & r & r\\_log\\\\\n",
       "\\hline\n",
       "\t 62        & 0.9341638 & 0.9595748\\\\\n",
       "\\end{tabular}\n"
      ],
      "text/markdown": [
       "\n",
       "| N | r | r_log |\n",
       "|---|---|---|\n",
       "| 62        | 0.9341638 | 0.9595748 |\n",
       "\n"
      ],
      "text/plain": [
       "  N  r         r_log    \n",
       "1 62 0.9341638 0.9595748"
      ]
     },
     "metadata": {},
     "output_type": "display_data"
    }
   ],
   "source": [
    "# Correlation among mammals, with and without log\n",
    "mammals %>%\n",
    "  summarize(N = n(), \n",
    "            r = cor(body_wt, brain_wt), \n",
    "            r_log = cor(log(body_wt), log(brain_wt)))"
   ]
  },
  {
   "cell_type": "markdown",
   "metadata": {},
   "source": [
    "## Spurious correlations\n"
   ]
  },
  {
   "cell_type": "markdown",
   "metadata": {},
   "source": [
    "### Spurious correlation in random data\n",
    "\n",
    "Statisticians must always be skeptical of potentially spurious correlations. Human beings are very good at seeing patterns in data, sometimes when the patterns themselves are actually just random noise. To illustrate how easy it can be to fall into this trap, we will look for patterns in truly random data."
   ]
  },
  {
   "cell_type": "markdown",
   "metadata": {},
   "source": [
    "# Simple linear regression\n",
    "\n",
    "With the notion of correlation under the belt, we'll now turn our attention to simple linear models."
   ]
  },
  {
   "cell_type": "markdown",
   "metadata": {},
   "source": [
    "## Visualization of Linear Models\n",
    "\n",
    "### Possums"
   ]
  },
  {
   "cell_type": "code",
   "execution_count": 77,
   "metadata": {},
   "outputs": [
    {
     "data": {
      "image/png": "[encoded data removed]",
      "text/plain": [
       "plot without title"
      ]
     },
     "metadata": {},
     "output_type": "display_data"
    }
   ],
   "source": [
    "possum %>%\n",
    "    ggplot(aes(y=total_l, x=tail_l)) +\n",
    "    geom_point()"
   ]
  },
  {
   "cell_type": "markdown",
   "metadata": {},
   "source": [
    "### Through the origin"
   ]
  },
  {
   "cell_type": "code",
   "execution_count": 79,
   "metadata": {},
   "outputs": [
    {
     "data": {
      "image/png": "[encoded data removed]",
      "text/plain": [
       "plot without title"
      ]
     },
     "metadata": {},
     "output_type": "display_data"
    }
   ],
   "source": [
    "possum %>%\n",
    "    ggplot(aes(y=total_l, x=tail_l)) +\n",
    "    geom_point() +\n",
    "    geom_abline(intercept=0, slope=2.5)"
   ]
  },
  {
   "cell_type": "markdown",
   "metadata": {},
   "source": [
    "### Through the origin, better fit"
   ]
  },
  {
   "cell_type": "code",
   "execution_count": 84,
   "metadata": {},
   "outputs": [
    {
     "data": {
      "image/png": "[encoded data removed]",
      "text/plain": [
       "plot without title"
      ]
     },
     "metadata": {},
     "output_type": "display_data"
    }
   ],
   "source": [
    "possum %>%\n",
    "    ggplot(aes(y=total_l, x=tail_l)) +\n",
    "    geom_point() +\n",
    "    geom_abline(intercept=40, slope=1.3)"
   ]
  },
  {
   "cell_type": "markdown",
   "metadata": {},
   "source": [
    "### The \"best\" fit line\n",
    "\n",
    "The simple linear regression model for a numeric response as a function of a numeric explanatory variable can be visualized on the corresponding scatterplot by a straight line. This is a \"best fit\" line that cuts through the data in a way that minimizes the distance between the line and the data points.\n",
    "\n",
    "We might consider linear regression to be a specific example of a larger class of smooth models. The `geom_smooth()` function allows us to draw such models over a scatterplot of the data itself. This technique is known as visualizing the model in the data space. The `method` argument to `geom_smooth()` allows one to specify what class of smooth model you want to see. Since we are exploring linear models, we'll set this argument to the value `\"lm\"`."
   ]
  },
  {
   "cell_type": "code",
   "execution_count": 85,
   "metadata": {},
   "outputs": [
    {
     "name": "stderr",
     "output_type": "stream",
     "text": [
      "`geom_smooth()` using formula 'y ~ x'\n"
     ]
    },
    {
     "data": {
      "image/png": "[encoded data removed]",
      "text/plain": [
       "plot without title"
      ]
     },
     "metadata": {},
     "output_type": "display_data"
    }
   ],
   "source": [
    "possum %>%\n",
    "    ggplot(aes(y=total_l, x=tail_l)) +\n",
    "    geom_point() +\n",
    "    geom_smooth(method=\"lm\")"
   ]
  },
  {
   "cell_type": "markdown",
   "metadata": {},
   "source": [
    "### Ignore standard errors\n",
    "\n",
    "`geom_smooth()` also takes an se argument that controls the standard error, which we will ignore for now."
   ]
  },
  {
   "cell_type": "code",
   "execution_count": 86,
   "metadata": {},
   "outputs": [
    {
     "name": "stderr",
     "output_type": "stream",
     "text": [
      "`geom_smooth()` using formula 'y ~ x'\n"
     ]
    },
    {
     "data": {
      "image/png": "[encoded data removed]",
      "text/plain": [
       "plot without title"
      ]
     },
     "metadata": {},
     "output_type": "display_data"
    }
   ],
   "source": [
    "possum %>%\n",
    "    ggplot(aes(y=total_l, x=tail_l)) +\n",
    "    geom_point() +\n",
    "    geom_smooth(method=\"lm\", se=F)"
   ]
  },
  {
   "cell_type": "markdown",
   "metadata": {},
   "source": [
    " a scatterplot of body weight as a function of height for all individuals in the `bdims` dataset with a simple linear model plotted over the data."
   ]
  },
  {
   "cell_type": "code",
   "execution_count": 87,
   "metadata": {},
   "outputs": [
    {
     "name": "stderr",
     "output_type": "stream",
     "text": [
      "`geom_smooth()` using formula 'y ~ x'\n"
     ]
    },
    {
     "data": {
      "image/png": "[encoded data removed]",
      "text/plain": [
       "plot without title"
      ]
     },
     "metadata": {},
     "output_type": "display_data"
    }
   ],
   "source": [
    "# Scatterplot with regression line\n",
    "ggplot(data = bdims, aes(x = hgt, y = wgt)) + \n",
    "  geom_point() + \n",
    "  geom_smooth(method = \"lm\", se = FALSE)"
   ]
  },
  {
   "cell_type": "code",
   "execution_count": 88,
   "metadata": {},
   "outputs": [],
   "source": [
    "add_line <- function (my_slope) {\n",
    "    bdims_summary <- bdims %>%\n",
    "        summarize(N = n(), r = cor(hgt, wgt), \n",
    "                  mean_hgt = mean(hgt), \n",
    "                  mean_wgt = mean(wgt),\n",
    "                  sd_hgt = sd(hgt), \n",
    "                  sd_wgt = sd(wgt)) %>%\n",
    "            mutate(true_slope = r * sd_wgt / sd_hgt, \n",
    "                   true_intercept = mean_wgt - true_slope * mean_hgt)\n",
    "    p <- ggplot(data = bdims, aes(x = hgt, y = wgt)) + \n",
    "        geom_point() + \n",
    "        geom_point(data = bdims_summary,\n",
    "                   aes(x = mean_hgt, y = mean_wgt),\n",
    "                   color = \"red\", size = 3)\n",
    "    my_data <- bdims_summary %>%\n",
    "        mutate(my_slope = my_slope,\n",
    "               my_intercept = mean_wgt - my_slope * mean_hgt)\n",
    "    p + geom_abline(data = my_data, \n",
    "                    aes(intercept = my_intercept, slope = my_slope), color = \"dodgerblue\")\n",
    "}"
   ]
  },
  {
   "cell_type": "markdown",
   "metadata": {},
   "source": [
    "### Uniqueness of least squares regression line\n",
    "\n",
    "The least squares criterion implies that the slope of the regression line is unique. The slope is computed by R. We will experiment with trying to find the optimal value for the regression slope for weight as a function of height in the `bdims` dataset via trial-and-error."
   ]
  },
  {
   "cell_type": "code",
   "execution_count": 90,
   "metadata": {},
   "outputs": [
    {
     "data": {
      "image/png": "[encoded data removed]",
      "text/plain": [
       "plot without title"
      ]
     },
     "metadata": {},
     "output_type": "display_data"
    }
   ],
   "source": [
    "add_line(1)"
   ]
  },
  {
   "cell_type": "markdown",
   "metadata": {},
   "source": [
    "## Understanding Linear Models\n",
    "\n",
    "### Generic statistical model\n",
    "\n",
    "$response = f(explanatory) + noise$\n",
    "\n",
    "### Generic linear model\n",
    "\n",
    "$response = intercept + (slope * explanatory) + noise$\n",
    "\n",
    "### Regression model\n",
    "\n",
    "$Y = \\beta_{0} + \\beta_{1}.X+\\epsilon, \\ \\ \\ \\epsilon ~ N(0, \\sigma_{\\epsilon})$\n",
    "\n",
    "### Fitted values\n",
    "\n",
    "$\\hat{Y} = \\hat{\\beta_0} + \\hat{\\beta_1} . X$\n",
    "\n",
    "### Residuals\n",
    "\n",
    "$e = Y -\\hat{Y}$\n",
    "\n",
    "### Fitting procedure\n",
    "\n",
    "- Given $n$ observations of pairs $(x_i, y_i)$...\n",
    "- Find $\\hat{\\beta_0}$, $\\hat{\\beta_1}$  that minimize $\\sum_{i=1}^{n} {e_i}^2$\n",
    "\n",
    "### Least squares\n",
    "\n",
    "- Easy, deterministic,  unique solution\n",
    "- Residuals sum to zero \n",
    "- Line must pass through ($\\bar{x}$, $\\bar{y}$)\n",
    "- Other criteria exist\n",
    "\n",
    "### Key concepts\n",
    "- $\\hat{Y}$ is expected value given corresponding $X$\n",
    "- $\\hat{\\beta}$ are estimates of true, unknown betas $\\beta$\n",
    "- Residuals ($e$'s) are estimates of true, unknown epsilons $\\epsilon$\n",
    "- \"Error\" may be misleading term—better: noise\n"
   ]
  },
  {
   "cell_type": "markdown",
   "metadata": {},
   "source": [
    "### Fitting a linear model \"by hand\"\n",
    "\n",
    "the simple linear regression model:\n",
    "$$\n",
    "Y = b_0 + b_1.X\n",
    "$$\n",
    "Two facts enable us to compute the slope $b_1$ and intercept $b_0$ of a simple linear regression model from some basic summary statistics.\n",
    "\n",
    "- First, the slope can be defined as:\n",
    "$$\n",
    "b_1 = r_{X, Y} . \\frac{s_Y}{s_X}\n",
    "$$\n",
    "Where $r_{X, Y}$ is the correlation (`cor()`) of $X$ and $Y$ and $s_X$ and $s_Y$ represent the standard deviation (`sd()`) of $X$ and $Y$ respectively.\n",
    "- Second, the point $(\\bar{x}, \\bar{y})$ is always on the least squares regression line, where $\\bar{x}$ and $\\bar{y}$ denote the average of $x$ and $y$ respectively."
   ]
  },
  {
   "cell_type": "code",
   "execution_count": 92,
   "metadata": {},
   "outputs": [
    {
     "data": {
      "text/html": [
       "<table>\n",
       "<thead><tr><th scope=col>N</th><th scope=col>r</th><th scope=col>mean_hgt</th><th scope=col>mean_wgt</th><th scope=col>sd_hgt</th><th scope=col>sd_wgt</th><th scope=col>true_slope</th><th scope=col>true_intercept</th></tr></thead>\n",
       "<tbody>\n",
       "\t<tr><td>507      </td><td>0.7173011</td><td>171.1438 </td><td>69.14753 </td><td>9.407205 </td><td>13.34576 </td><td>1.017617 </td><td>-105.0113</td></tr>\n",
       "</tbody>\n",
       "</table>\n"
      ],
      "text/latex": [
       "\\begin{tabular}{r|llllllll}\n",
       " N & r & mean\\_hgt & mean\\_wgt & sd\\_hgt & sd\\_wgt & true\\_slope & true\\_intercept\\\\\n",
       "\\hline\n",
       "\t 507       & 0.7173011 & 171.1438  & 69.14753  & 9.407205  & 13.34576  & 1.017617  & -105.0113\\\\\n",
       "\\end{tabular}\n"
      ],
      "text/markdown": [
       "\n",
       "| N | r | mean_hgt | mean_wgt | sd_hgt | sd_wgt | true_slope | true_intercept |\n",
       "|---|---|---|---|---|---|---|---|\n",
       "| 507       | 0.7173011 | 171.1438  | 69.14753  | 9.407205  | 13.34576  | 1.017617  | -105.0113 |\n",
       "\n"
      ],
      "text/plain": [
       "  N   r         mean_hgt mean_wgt sd_hgt   sd_wgt   true_slope true_intercept\n",
       "1 507 0.7173011 171.1438 69.14753 9.407205 13.34576 1.017617   -105.0113     "
      ]
     },
     "metadata": {},
     "output_type": "display_data"
    }
   ],
   "source": [
    "(bdims_summary <- bdims %>%\n",
    "        summarize(N = n(), r = cor(hgt, wgt), \n",
    "                  mean_hgt = mean(hgt), \n",
    "                  mean_wgt = mean(wgt),\n",
    "                  sd_hgt = sd(hgt), \n",
    "                  sd_wgt = sd(wgt)) %>%\n",
    "            mutate(true_slope = r * sd_wgt / sd_hgt, \n",
    "                   true_intercept = mean_wgt - true_slope * mean_hgt))"
   ]
  },
  {
   "cell_type": "markdown",
   "metadata": {},
   "source": [
    "## Regression vs. regression to the mean\n",
    "\n",
    "### Heredity\n",
    "- Galton's \"regression to the mean\"\n",
    "- **Thought experiment**: consider the heights of the children of NBAplayers\n",
    "\n",
    "### Regression modeling\n",
    "- **\"Regression\"**: techniques for modeling a quantitative response\n",
    "- Types of regression models:\n",
    "  - Least squares\n",
    "  - Weighted\n",
    "  - Generalized\n",
    "  - Non parametric\n",
    "  - Ridge\n",
    "  - Bayesian. . .\n"
   ]
  },
  {
   "cell_type": "code",
   "execution_count": null,
   "metadata": {},
   "outputs": [],
   "source": []
  },
  {
   "cell_type": "code",
   "execution_count": null,
   "metadata": {},
   "outputs": [],
   "source": []
  },
  {
   "cell_type": "code",
   "execution_count": null,
   "metadata": {},
   "outputs": [],
   "source": []
  },
  {
   "cell_type": "code",
   "execution_count": null,
   "metadata": {},
   "outputs": [],
   "source": []
  },
  {
   "cell_type": "code",
   "execution_count": null,
   "metadata": {},
   "outputs": [],
   "source": []
  },
  {
   "cell_type": "code",
   "execution_count": null,
   "metadata": {},
   "outputs": [],
   "source": []
  },
  {
   "cell_type": "code",
   "execution_count": null,
   "metadata": {},
   "outputs": [],
   "source": []
  },
  {
   "cell_type": "code",
   "execution_count": null,
   "metadata": {},
   "outputs": [],
   "source": []
  },
  {
   "cell_type": "code",
   "execution_count": null,
   "metadata": {},
   "outputs": [],
   "source": []
  },
  {
   "cell_type": "code",
   "execution_count": null,
   "metadata": {},
   "outputs": [],
   "source": []
  },
  {
   "cell_type": "code",
   "execution_count": null,
   "metadata": {},
   "outputs": [],
   "source": []
  }
 ],
 "metadata": {
  "kernelspec": {
   "display_name": "R",
   "language": "R",
   "name": "ir"
  },
  "language_info": {
   "codemirror_mode": "r",
   "file_extension": ".r",
   "mimetype": "text/x-r-source",
   "name": "R",
   "pygments_lexer": "r",
   "version": "3.6.1"
  }
 },
 "nbformat": 4,
 "nbformat_minor": 4
}
